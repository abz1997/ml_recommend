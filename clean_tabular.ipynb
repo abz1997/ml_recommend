{
 "cells": [
  {
   "cell_type": "code",
   "execution_count": 43,
   "metadata": {},
   "outputs": [],
   "source": [
    "from sqlalchemy import create_engine\n",
    "import psycopg2\n",
    "import pandas as pd\n",
    "\n",
    "DATABASE_TYPE = 'postgresql'\n",
    "DBAPI = 'psycopg2'\n",
    "ENDPOINT = ' # Change it for your AWS endpoint\n",
    "USER = 'postgres'\n",
    "#PASSWORD = str(input('Database Password: '))\n",
    "PASSWORD = ''\n",
    "PORT = 5432\n",
    "DATABASE = 'postgres'\n",
    "engine = create_engine(f\"{DATABASE_TYPE}+{DBAPI}://{USER}:{PASSWORD}@{ENDPOINT}:{PORT}/{DATABASE}\")"
   ]
  },
  {
   "cell_type": "code",
   "execution_count": 44,
   "metadata": {},
   "outputs": [
    {
     "data": {
      "text/html": [
       "<div>\n",
       "<style scoped>\n",
       "    .dataframe tbody tr th:only-of-type {\n",
       "        vertical-align: middle;\n",
       "    }\n",
       "\n",
       "    .dataframe tbody tr th {\n",
       "        vertical-align: top;\n",
       "    }\n",
       "\n",
       "    .dataframe thead th {\n",
       "        text-align: right;\n",
       "    }\n",
       "</style>\n",
       "<table border=\"1\" class=\"dataframe\">\n",
       "  <thead>\n",
       "    <tr style=\"text-align: right;\">\n",
       "      <th></th>\n",
       "      <th>id</th>\n",
       "      <th>product_name</th>\n",
       "      <th>category</th>\n",
       "      <th>product_description</th>\n",
       "      <th>price</th>\n",
       "      <th>location</th>\n",
       "      <th>page_id</th>\n",
       "      <th>create_time</th>\n",
       "    </tr>\n",
       "  </thead>\n",
       "  <tbody>\n",
       "    <tr>\n",
       "      <th>0</th>\n",
       "      <td>ac2140ae-f0d5-4fe7-ac08-df0f109fd734</td>\n",
       "      <td>Second-Hand Sofas, Couches &amp; Armchairs for Sal...</td>\n",
       "      <td>N/A</td>\n",
       "      <td>N/A</td>\n",
       "      <td>N/A</td>\n",
       "      <td>N/A</td>\n",
       "      <td>1426592234</td>\n",
       "      <td>2022-02-26</td>\n",
       "    </tr>\n",
       "    <tr>\n",
       "      <th>1</th>\n",
       "      <td>243809c0-9cfc-4486-ad12-3b7a16605ba9</td>\n",
       "      <td>Mirror wall art | in Wokingham, Berkshire | Gu...</td>\n",
       "      <td>Home &amp; Garden / Dining, Living Room Furniture ...</td>\n",
       "      <td>Mirror wall art. Posted by Nisha in Dining, Li...</td>\n",
       "      <td>£5.00</td>\n",
       "      <td>Wokingham, Berkshire</td>\n",
       "      <td>1426704584</td>\n",
       "      <td>2022-02-26</td>\n",
       "    </tr>\n",
       "    <tr>\n",
       "      <th>2</th>\n",
       "      <td>1c58d3f9-8b93-47ea-9415-204fcc2a22e6</td>\n",
       "      <td>Stainless Steel Food Steamer | in Inverness, H...</td>\n",
       "      <td>Home &amp; Garden / Other Household Goods</td>\n",
       "      <td>Morphy Richard’s (model no 48755)Stainless ste...</td>\n",
       "      <td>£20.00</td>\n",
       "      <td>Inverness, Highland</td>\n",
       "      <td>1426704579</td>\n",
       "      <td>2022-02-26</td>\n",
       "    </tr>\n",
       "    <tr>\n",
       "      <th>3</th>\n",
       "      <td>860673f1-57f6-47ba-8d2f-13f9e05b8f9a</td>\n",
       "      <td>Sun loungers | in Skegness, Lincolnshire | Gum...</td>\n",
       "      <td>Home &amp; Garden / Garden &amp; Patio / Outdoor Setti...</td>\n",
       "      <td>I have 2 of these - collection only as I don’t...</td>\n",
       "      <td>£20.00</td>\n",
       "      <td>Skegness, Lincolnshire</td>\n",
       "      <td>1426704576</td>\n",
       "      <td>2022-02-26</td>\n",
       "    </tr>\n",
       "    <tr>\n",
       "      <th>4</th>\n",
       "      <td>59948726-29be-4b35-ade5-bb2fd7331856</td>\n",
       "      <td>Coffee side table from Ammunition ammo box hai...</td>\n",
       "      <td>Home &amp; Garden / Dining, Living Room Furniture ...</td>\n",
       "      <td>Great reclaimed army ammunition box used as co...</td>\n",
       "      <td>£115.00</td>\n",
       "      <td>Radstock, Somerset</td>\n",
       "      <td>1426704575</td>\n",
       "      <td>2022-02-26</td>\n",
       "    </tr>\n",
       "  </tbody>\n",
       "</table>\n",
       "</div>"
      ],
      "text/plain": [
       "                                     id  \\\n",
       "0  ac2140ae-f0d5-4fe7-ac08-df0f109fd734   \n",
       "1  243809c0-9cfc-4486-ad12-3b7a16605ba9   \n",
       "2  1c58d3f9-8b93-47ea-9415-204fcc2a22e6   \n",
       "3  860673f1-57f6-47ba-8d2f-13f9e05b8f9a   \n",
       "4  59948726-29be-4b35-ade5-bb2fd7331856   \n",
       "\n",
       "                                        product_name  \\\n",
       "0  Second-Hand Sofas, Couches & Armchairs for Sal...   \n",
       "1  Mirror wall art | in Wokingham, Berkshire | Gu...   \n",
       "2  Stainless Steel Food Steamer | in Inverness, H...   \n",
       "3  Sun loungers | in Skegness, Lincolnshire | Gum...   \n",
       "4  Coffee side table from Ammunition ammo box hai...   \n",
       "\n",
       "                                            category  \\\n",
       "0                                                N/A   \n",
       "1  Home & Garden / Dining, Living Room Furniture ...   \n",
       "2              Home & Garden / Other Household Goods   \n",
       "3  Home & Garden / Garden & Patio / Outdoor Setti...   \n",
       "4  Home & Garden / Dining, Living Room Furniture ...   \n",
       "\n",
       "                                 product_description    price  \\\n",
       "0                                                N/A      N/A   \n",
       "1  Mirror wall art. Posted by Nisha in Dining, Li...    £5.00   \n",
       "2  Morphy Richard’s (model no 48755)Stainless ste...   £20.00   \n",
       "3  I have 2 of these - collection only as I don’t...   £20.00   \n",
       "4  Great reclaimed army ammunition box used as co...  £115.00   \n",
       "\n",
       "                 location     page_id create_time  \n",
       "0                     N/A  1426592234  2022-02-26  \n",
       "1    Wokingham, Berkshire  1426704584  2022-02-26  \n",
       "2     Inverness, Highland  1426704579  2022-02-26  \n",
       "3  Skegness, Lincolnshire  1426704576  2022-02-26  \n",
       "4      Radstock, Somerset  1426704575  2022-02-26  "
      ]
     },
     "execution_count": 44,
     "metadata": {},
     "output_type": "execute_result"
    }
   ],
   "source": [
    "df = pd.read_sql('products', engine)\n",
    "\n",
    "(df.head())"
   ]
  },
  {
   "cell_type": "code",
   "execution_count": 45,
   "metadata": {},
   "outputs": [
    {
     "data": {
      "text/plain": [
       "id                             object\n",
       "product_name                   object\n",
       "category                       object\n",
       "product_description            object\n",
       "price                          object\n",
       "location                       object\n",
       "page_id                         int64\n",
       "create_time            datetime64[ns]\n",
       "dtype: object"
      ]
     },
     "execution_count": 45,
     "metadata": {},
     "output_type": "execute_result"
    }
   ],
   "source": [
    "df.dtypes"
   ]
  },
  {
   "cell_type": "code",
   "execution_count": 46,
   "metadata": {},
   "outputs": [
    {
     "name": "stdout",
     "output_type": "stream",
     "text": [
      "<class 'pandas.core.frame.DataFrame'>\n",
      "RangeIndex: 8091 entries, 0 to 8090\n",
      "Data columns (total 8 columns):\n",
      " #   Column               Non-Null Count  Dtype         \n",
      "---  ------               --------------  -----         \n",
      " 0   id                   8091 non-null   object        \n",
      " 1   product_name         8091 non-null   object        \n",
      " 2   category             8091 non-null   object        \n",
      " 3   product_description  8091 non-null   object        \n",
      " 4   price                8091 non-null   object        \n",
      " 5   location             8091 non-null   object        \n",
      " 6   page_id              8091 non-null   int64         \n",
      " 7   create_time          8091 non-null   datetime64[ns]\n",
      "dtypes: datetime64[ns](1), int64(1), object(6)\n",
      "memory usage: 505.8+ KB\n"
     ]
    }
   ],
   "source": [
    "df.info()"
   ]
  },
  {
   "cell_type": "code",
   "execution_count": 48,
   "metadata": {},
   "outputs": [
    {
     "name": "stdout",
     "output_type": "stream",
     "text": [
      "{'id': 0, 'product_name': 0, 'price': 935, 'category': 935, 'product_description': 935, 'location': 935, 'page_id': 0, 'create_time': 0}\n",
      "(8091, 8)\n"
     ]
    }
   ],
   "source": [
    "questionable_columns = ['id','product_name','price', 'category','product_description', 'location', 'page_id','create_time']\n",
    "na_counts = {col: 0 for col in questionable_columns}\n",
    "for col in questionable_columns:\n",
    "    na_counts[col] = df[col][df[col] == 'N/A'].count() #identify N/A \n",
    "    \n",
    "print(na_counts)\n",
    "print(df.shape)"
   ]
  },
  {
   "cell_type": "code",
   "execution_count": 49,
   "metadata": {},
   "outputs": [
    {
     "data": {
      "text/plain": [
       "(7156, 8)"
      ]
     },
     "execution_count": 49,
     "metadata": {},
     "output_type": "execute_result"
    }
   ],
   "source": [
    "data = df.loc[df[\"price\"] != 'N/A'] #removes all rows with 'N/A' for prices\n",
    "data.shape"
   ]
  },
  {
   "cell_type": "code",
   "execution_count": 51,
   "metadata": {},
   "outputs": [
    {
     "name": "stderr",
     "output_type": "stream",
     "text": [
      "/tmp/ipykernel_7281/2010094058.py:1: SettingWithCopyWarning: \n",
      "A value is trying to be set on a copy of a slice from a DataFrame.\n",
      "Try using .loc[row_indexer,col_indexer] = value instead\n",
      "\n",
      "See the caveats in the documentation: https://pandas.pydata.org/pandas-docs/stable/user_guide/indexing.html#returning-a-view-versus-a-copy\n",
      "  data['price'] = data['price'].str.strip('£')\n",
      "/tmp/ipykernel_7281/2010094058.py:2: SettingWithCopyWarning: \n",
      "A value is trying to be set on a copy of a slice from a DataFrame.\n",
      "Try using .loc[row_indexer,col_indexer] = value instead\n",
      "\n",
      "See the caveats in the documentation: https://pandas.pydata.org/pandas-docs/stable/user_guide/indexing.html#returning-a-view-versus-a-copy\n",
      "  data[\"price\"] = [float(str(i).replace(\",\", \"\")) for i in data[\"price\"]]\n"
     ]
    }
   ],
   "source": [
    "data['price'] = data['price'].str.strip('£') #removes £ \n",
    "data[\"price\"] = [float(str(i).replace(\",\", \"\")) for i in data[\"price\"]] "
   ]
  },
  {
   "cell_type": "code",
   "execution_count": 53,
   "metadata": {},
   "outputs": [
    {
     "name": "stderr",
     "output_type": "stream",
     "text": [
      "/tmp/ipykernel_7281/1114909614.py:1: SettingWithCopyWarning: \n",
      "A value is trying to be set on a copy of a slice from a DataFrame.\n",
      "Try using .loc[row_indexer,col_indexer] = value instead\n",
      "\n",
      "See the caveats in the documentation: https://pandas.pydata.org/pandas-docs/stable/user_guide/indexing.html#returning-a-view-versus-a-copy\n",
      "  data['price'] = data['price'].astype('float64')\n"
     ]
    }
   ],
   "source": [
    "data['price'] = data['price'].astype('float64')"
   ]
  },
  {
   "cell_type": "code",
   "execution_count": 62,
   "metadata": {},
   "outputs": [
    {
     "data": {
      "text/plain": [
       "id                             object\n",
       "product_name                   object\n",
       "category                       object\n",
       "product_description            object\n",
       "price                         float64\n",
       "location                       object\n",
       "page_id                         int64\n",
       "create_time            datetime64[ns]\n",
       "category0                      object\n",
       "category1                      object\n",
       "category2                      object\n",
       "category3                      object\n",
       "category4                      object\n",
       "dtype: object"
      ]
     },
     "execution_count": 62,
     "metadata": {},
     "output_type": "execute_result"
    }
   ],
   "source": [
    "data.dtypes"
   ]
  },
  {
   "cell_type": "code",
   "execution_count": 55,
   "metadata": {},
   "outputs": [
    {
     "name": "stderr",
     "output_type": "stream",
     "text": [
      "/tmp/ipykernel_7281/2462911171.py:4: SettingWithCopyWarning: \n",
      "A value is trying to be set on a copy of a slice from a DataFrame.\n",
      "Try using .loc[row_indexer,col_indexer] = value instead\n",
      "\n",
      "See the caveats in the documentation: https://pandas.pydata.org/pandas-docs/stable/user_guide/indexing.html#returning-a-view-versus-a-copy\n",
      "  data[[col+str(i) for i in range(no_cols)]] = (data[col].str.split(character, expand=True))\n",
      "/tmp/ipykernel_7281/2462911171.py:4: SettingWithCopyWarning: \n",
      "A value is trying to be set on a copy of a slice from a DataFrame.\n",
      "Try using .loc[row_indexer,col_indexer] = value instead\n",
      "\n",
      "See the caveats in the documentation: https://pandas.pydata.org/pandas-docs/stable/user_guide/indexing.html#returning-a-view-versus-a-copy\n",
      "  data[[col+str(i) for i in range(no_cols)]] = (data[col].str.split(character, expand=True))\n",
      "/tmp/ipykernel_7281/2462911171.py:4: SettingWithCopyWarning: \n",
      "A value is trying to be set on a copy of a slice from a DataFrame.\n",
      "Try using .loc[row_indexer,col_indexer] = value instead\n",
      "\n",
      "See the caveats in the documentation: https://pandas.pydata.org/pandas-docs/stable/user_guide/indexing.html#returning-a-view-versus-a-copy\n",
      "  data[[col+str(i) for i in range(no_cols)]] = (data[col].str.split(character, expand=True))\n",
      "/tmp/ipykernel_7281/2462911171.py:4: SettingWithCopyWarning: \n",
      "A value is trying to be set on a copy of a slice from a DataFrame.\n",
      "Try using .loc[row_indexer,col_indexer] = value instead\n",
      "\n",
      "See the caveats in the documentation: https://pandas.pydata.org/pandas-docs/stable/user_guide/indexing.html#returning-a-view-versus-a-copy\n",
      "  data[[col+str(i) for i in range(no_cols)]] = (data[col].str.split(character, expand=True))\n",
      "/tmp/ipykernel_7281/2462911171.py:4: SettingWithCopyWarning: \n",
      "A value is trying to be set on a copy of a slice from a DataFrame.\n",
      "Try using .loc[row_indexer,col_indexer] = value instead\n",
      "\n",
      "See the caveats in the documentation: https://pandas.pydata.org/pandas-docs/stable/user_guide/indexing.html#returning-a-view-versus-a-copy\n",
      "  data[[col+str(i) for i in range(no_cols)]] = (data[col].str.split(character, expand=True))\n"
     ]
    }
   ],
   "source": [
    "# as there are lots of potential categories for 'category', if we split it into different columns, we can have fewer number of categories as they won't be seperated as much\n",
    "col = 'category'\n",
    "no_cols = 5\n",
    "character = '/'\n",
    "data[[col+str(i) for i in range(no_cols)]] = (data[col].str.split(character, expand=True))\n",
    "df2 = data.drop(col, axis=1) # drops empty column\n",
    "for i in range(no_cols):\n",
    "            if i > 2:\n",
    "                df3 = df2.drop(col+str(i), axis=1)"
   ]
  },
  {
   "cell_type": "code",
   "execution_count": 57,
   "metadata": {},
   "outputs": [
    {
     "data": {
      "text/html": [
       "<div>\n",
       "<style scoped>\n",
       "    .dataframe tbody tr th:only-of-type {\n",
       "        vertical-align: middle;\n",
       "    }\n",
       "\n",
       "    .dataframe tbody tr th {\n",
       "        vertical-align: top;\n",
       "    }\n",
       "\n",
       "    .dataframe thead th {\n",
       "        text-align: right;\n",
       "    }\n",
       "</style>\n",
       "<table border=\"1\" class=\"dataframe\">\n",
       "  <thead>\n",
       "    <tr style=\"text-align: right;\">\n",
       "      <th></th>\n",
       "      <th>id</th>\n",
       "      <th>product_name</th>\n",
       "      <th>product_description</th>\n",
       "      <th>price</th>\n",
       "      <th>location</th>\n",
       "      <th>page_id</th>\n",
       "      <th>create_time</th>\n",
       "      <th>category0</th>\n",
       "      <th>category1</th>\n",
       "      <th>category2</th>\n",
       "      <th>category3</th>\n",
       "    </tr>\n",
       "  </thead>\n",
       "  <tbody>\n",
       "    <tr>\n",
       "      <th>1</th>\n",
       "      <td>243809c0-9cfc-4486-ad12-3b7a16605ba9</td>\n",
       "      <td>Mirror wall art | in Wokingham, Berkshire | Gu...</td>\n",
       "      <td>Mirror wall art. Posted by Nisha in Dining, Li...</td>\n",
       "      <td>5.0</td>\n",
       "      <td>Wokingham, Berkshire</td>\n",
       "      <td>1426704584</td>\n",
       "      <td>2022-02-26</td>\n",
       "      <td>Home &amp; Garden</td>\n",
       "      <td>Dining, Living Room Furniture</td>\n",
       "      <td>Mirrors, Clocks &amp; Ornaments</td>\n",
       "      <td>None</td>\n",
       "    </tr>\n",
       "    <tr>\n",
       "      <th>2</th>\n",
       "      <td>1c58d3f9-8b93-47ea-9415-204fcc2a22e6</td>\n",
       "      <td>Stainless Steel Food Steamer | in Inverness, H...</td>\n",
       "      <td>Morphy Richard’s (model no 48755)Stainless ste...</td>\n",
       "      <td>20.0</td>\n",
       "      <td>Inverness, Highland</td>\n",
       "      <td>1426704579</td>\n",
       "      <td>2022-02-26</td>\n",
       "      <td>Home &amp; Garden</td>\n",
       "      <td>Other Household Goods</td>\n",
       "      <td>None</td>\n",
       "      <td>None</td>\n",
       "    </tr>\n",
       "    <tr>\n",
       "      <th>3</th>\n",
       "      <td>860673f1-57f6-47ba-8d2f-13f9e05b8f9a</td>\n",
       "      <td>Sun loungers | in Skegness, Lincolnshire | Gum...</td>\n",
       "      <td>I have 2 of these - collection only as I don’t...</td>\n",
       "      <td>20.0</td>\n",
       "      <td>Skegness, Lincolnshire</td>\n",
       "      <td>1426704576</td>\n",
       "      <td>2022-02-26</td>\n",
       "      <td>Home &amp; Garden</td>\n",
       "      <td>Garden &amp; Patio</td>\n",
       "      <td>Outdoor Settings &amp; Furniture</td>\n",
       "      <td>None</td>\n",
       "    </tr>\n",
       "    <tr>\n",
       "      <th>4</th>\n",
       "      <td>59948726-29be-4b35-ade5-bb2fd7331856</td>\n",
       "      <td>Coffee side table from Ammunition ammo box hai...</td>\n",
       "      <td>Great reclaimed army ammunition box used as co...</td>\n",
       "      <td>115.0</td>\n",
       "      <td>Radstock, Somerset</td>\n",
       "      <td>1426704575</td>\n",
       "      <td>2022-02-26</td>\n",
       "      <td>Home &amp; Garden</td>\n",
       "      <td>Dining, Living Room Furniture</td>\n",
       "      <td>Other</td>\n",
       "      <td>None</td>\n",
       "    </tr>\n",
       "    <tr>\n",
       "      <th>5</th>\n",
       "      <td>16dbc860-696e-4cda-93f6-4dd4926573fb</td>\n",
       "      <td>Modern Shannon Sofa for sale at low cost | in ...</td>\n",
       "      <td>New Design Shannon Corner sofa  5 Seater Avail...</td>\n",
       "      <td>450.0</td>\n",
       "      <td>Delph, Manchester</td>\n",
       "      <td>1426704570</td>\n",
       "      <td>2022-02-26</td>\n",
       "      <td>Home &amp; Garden</td>\n",
       "      <td>Dining, Living Room Furniture</td>\n",
       "      <td>Sofas, Armchairs &amp; Suites</td>\n",
       "      <td>Private</td>\n",
       "    </tr>\n",
       "  </tbody>\n",
       "</table>\n",
       "</div>"
      ],
      "text/plain": [
       "                                     id  \\\n",
       "1  243809c0-9cfc-4486-ad12-3b7a16605ba9   \n",
       "2  1c58d3f9-8b93-47ea-9415-204fcc2a22e6   \n",
       "3  860673f1-57f6-47ba-8d2f-13f9e05b8f9a   \n",
       "4  59948726-29be-4b35-ade5-bb2fd7331856   \n",
       "5  16dbc860-696e-4cda-93f6-4dd4926573fb   \n",
       "\n",
       "                                        product_name  \\\n",
       "1  Mirror wall art | in Wokingham, Berkshire | Gu...   \n",
       "2  Stainless Steel Food Steamer | in Inverness, H...   \n",
       "3  Sun loungers | in Skegness, Lincolnshire | Gum...   \n",
       "4  Coffee side table from Ammunition ammo box hai...   \n",
       "5  Modern Shannon Sofa for sale at low cost | in ...   \n",
       "\n",
       "                                 product_description  price  \\\n",
       "1  Mirror wall art. Posted by Nisha in Dining, Li...    5.0   \n",
       "2  Morphy Richard’s (model no 48755)Stainless ste...   20.0   \n",
       "3  I have 2 of these - collection only as I don’t...   20.0   \n",
       "4  Great reclaimed army ammunition box used as co...  115.0   \n",
       "5  New Design Shannon Corner sofa  5 Seater Avail...  450.0   \n",
       "\n",
       "                 location     page_id create_time       category0  \\\n",
       "1    Wokingham, Berkshire  1426704584  2022-02-26  Home & Garden    \n",
       "2     Inverness, Highland  1426704579  2022-02-26  Home & Garden    \n",
       "3  Skegness, Lincolnshire  1426704576  2022-02-26  Home & Garden    \n",
       "4      Radstock, Somerset  1426704575  2022-02-26  Home & Garden    \n",
       "5       Delph, Manchester  1426704570  2022-02-26  Home & Garden    \n",
       "\n",
       "                         category1                      category2 category3  \n",
       "1   Dining, Living Room Furniture     Mirrors, Clocks & Ornaments      None  \n",
       "2            Other Household Goods                           None      None  \n",
       "3                  Garden & Patio    Outdoor Settings & Furniture      None  \n",
       "4   Dining, Living Room Furniture                           Other      None  \n",
       "5   Dining, Living Room Furniture      Sofas, Armchairs & Suites    Private  "
      ]
     },
     "execution_count": 57,
     "metadata": {},
     "output_type": "execute_result"
    }
   ],
   "source": [
    "df3.head()"
   ]
  },
  {
   "cell_type": "code",
   "execution_count": 58,
   "metadata": {},
   "outputs": [
    {
     "data": {
      "text/plain": [
       "id                             object\n",
       "product_name                   object\n",
       "product_description            object\n",
       "price                         float64\n",
       "location                       object\n",
       "page_id                         int64\n",
       "create_time            datetime64[ns]\n",
       "category0                      object\n",
       "category1                      object\n",
       "category2                      object\n",
       "category3                      object\n",
       "dtype: object"
      ]
     },
     "execution_count": 58,
     "metadata": {},
     "output_type": "execute_result"
    }
   ],
   "source": [
    "df3.dtypes"
   ]
  },
  {
   "cell_type": "code",
   "execution_count": 63,
   "metadata": {},
   "outputs": [],
   "source": [
    "df3['category0'] = df3['category0'].astype('category') \n",
    "df3['category1'] = df3['category1'].astype('category') \n",
    "df3['category2'] = df3['category2'].astype('category') \n",
    "df3['category3'] = df3['category3'].astype('category') "
   ]
  },
  {
   "cell_type": "code",
   "execution_count": 72,
   "metadata": {},
   "outputs": [
    {
     "data": {
      "text/plain": [
       "count                                7156\n",
       "unique                                115\n",
       "top        Computers, Laptops & Netbooks \n",
       "freq                                  604\n",
       "Name: category1, dtype: object"
      ]
     },
     "execution_count": 72,
     "metadata": {},
     "output_type": "execute_result"
    }
   ],
   "source": [
    "df3['category1'].describe()"
   ]
  },
  {
   "cell_type": "code",
   "execution_count": 74,
   "metadata": {},
   "outputs": [
    {
     "data": {
      "text/plain": [
       "id                             object\n",
       "product_name                   object\n",
       "product_description            object\n",
       "price                         float64\n",
       "location                       object\n",
       "page_id                         int64\n",
       "create_time            datetime64[ns]\n",
       "category0                    category\n",
       "category1                    category\n",
       "category2                    category\n",
       "category3                    category\n",
       "dtype: object"
      ]
     },
     "execution_count": 74,
     "metadata": {},
     "output_type": "execute_result"
    }
   ],
   "source": [
    "df3.dtypes"
   ]
  },
  {
   "cell_type": "code",
   "execution_count": 73,
   "metadata": {},
   "outputs": [],
   "source": [
    "df3.to_csv('clean_data.csv', index=False)"
   ]
  }
 ],
 "metadata": {
  "interpreter": {
   "hash": "042f686cbed8bf79f507d2bb9c688228dc6d862680fe8a622e789c43c15beb4f"
  },
  "kernelspec": {
   "display_name": "Python 3.9.7 ('mle_env')",
   "language": "python",
   "name": "python3"
  },
  "language_info": {
   "name": "python",
   "version": "3.9.7"
  },
  "orig_nbformat": 4
 },
 "nbformat": 4,
 "nbformat_minor": 2
}
