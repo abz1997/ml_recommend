{
 "cells": [
  {
   "cell_type": "code",
   "execution_count": 2,
   "metadata": {},
   "outputs": [
    {
     "data": {
      "text/plain": [
       "[(UUID('fffbb9f5-423d-470a-a0d5-018177258d8b'), 'Kingston HyperX Beast 16GB (2x8GB) PC3-17100C11 2133MHz Dual Channel R | in Brighton, East Sussex | Gumtree', 'Computers & Software / Computers, Laptops & Netbooks / Memory, Motherboards & Processors', 'Gaming PC RAM Kingston HyperX Beast 16GB Kit (2 x 8GB) DDR3-2133MHz Memory\\r Memory Technology:\\tDDR3 SDRAM\\rMemory Form Factor:\\tDIMM 240-pin\\rMemory Modules Quantity:\\t2\\rMemory Speed:\\t2133MHz (PC3-17000)\\rCAS Latency:\\tCL11', '£80.00', 'Brighton, East Sussex', 1422093138, datetime.date(2022, 2, 27))]"
      ]
     },
     "execution_count": 2,
     "metadata": {},
     "output_type": "execute_result"
    }
   ],
   "source": [
    "from sqlalchemy import create_engine\n",
    "import psycopg2\n",
    "import pandas as pd\n",
    "\n",
    "DATABASE_TYPE = 'postgresql'\n",
    "DBAPI = 'psycopg2'\n",
    "ENDPOINT = '' # Change it for your AWS endpoint\n",
    "USER = 'postgres'\n",
    "#PASSWORD = str(input('Database Password: '))\n",
    "PASSWORD = ''\n",
    "PORT = 5432\n",
    "DATABASE = 'postgres'\n",
    "engine = create_engine(f\"{DATABASE_TYPE}+{DBAPI}://{USER}:{PASSWORD}@{ENDPOINT}:{PORT}/{DATABASE}\")\n",
    "\n",
    "cur = engine.execute(f\"SELECT * FROM products WHERE id='fffbb9f5-423d-470a-a0d5-018177258d8b'\")\n",
    "\n",
    "cur.fetchall()\n",
    "\n",
    "\n",
    "# cur = conn.cursor()\n",
    "\n",
    "# cur.execute(\"SELECT * FROM products WHERE id='fffbb9f5-423d-470a-a0d5-018177258d8b'\")\n",
    "# print(cur.fetchall())"
   ]
  },
  {
   "cell_type": "code",
   "execution_count": 3,
   "metadata": {},
   "outputs": [
    {
     "data": {
      "text/html": [
       "<div>\n",
       "<style scoped>\n",
       "    .dataframe tbody tr th:only-of-type {\n",
       "        vertical-align: middle;\n",
       "    }\n",
       "\n",
       "    .dataframe tbody tr th {\n",
       "        vertical-align: top;\n",
       "    }\n",
       "\n",
       "    .dataframe thead th {\n",
       "        text-align: right;\n",
       "    }\n",
       "</style>\n",
       "<table border=\"1\" class=\"dataframe\">\n",
       "  <thead>\n",
       "    <tr style=\"text-align: right;\">\n",
       "      <th></th>\n",
       "      <th>id</th>\n",
       "      <th>product_name</th>\n",
       "      <th>category</th>\n",
       "      <th>product_description</th>\n",
       "      <th>price</th>\n",
       "      <th>location</th>\n",
       "      <th>page_id</th>\n",
       "      <th>create_time</th>\n",
       "    </tr>\n",
       "  </thead>\n",
       "  <tbody>\n",
       "    <tr>\n",
       "      <th>0</th>\n",
       "      <td>ac2140ae-f0d5-4fe7-ac08-df0f109fd734</td>\n",
       "      <td>Second-Hand Sofas, Couches &amp; Armchairs for Sal...</td>\n",
       "      <td>N/A</td>\n",
       "      <td>N/A</td>\n",
       "      <td>N/A</td>\n",
       "      <td>N/A</td>\n",
       "      <td>1426592234</td>\n",
       "      <td>2022-02-26</td>\n",
       "    </tr>\n",
       "    <tr>\n",
       "      <th>1</th>\n",
       "      <td>243809c0-9cfc-4486-ad12-3b7a16605ba9</td>\n",
       "      <td>Mirror wall art | in Wokingham, Berkshire | Gu...</td>\n",
       "      <td>Home &amp; Garden / Dining, Living Room Furniture ...</td>\n",
       "      <td>Mirror wall art. Posted by Nisha in Dining, Li...</td>\n",
       "      <td>£5.00</td>\n",
       "      <td>Wokingham, Berkshire</td>\n",
       "      <td>1426704584</td>\n",
       "      <td>2022-02-26</td>\n",
       "    </tr>\n",
       "    <tr>\n",
       "      <th>2</th>\n",
       "      <td>1c58d3f9-8b93-47ea-9415-204fcc2a22e6</td>\n",
       "      <td>Stainless Steel Food Steamer | in Inverness, H...</td>\n",
       "      <td>Home &amp; Garden / Other Household Goods</td>\n",
       "      <td>Morphy Richard’s (model no 48755)Stainless ste...</td>\n",
       "      <td>£20.00</td>\n",
       "      <td>Inverness, Highland</td>\n",
       "      <td>1426704579</td>\n",
       "      <td>2022-02-26</td>\n",
       "    </tr>\n",
       "    <tr>\n",
       "      <th>3</th>\n",
       "      <td>860673f1-57f6-47ba-8d2f-13f9e05b8f9a</td>\n",
       "      <td>Sun loungers | in Skegness, Lincolnshire | Gum...</td>\n",
       "      <td>Home &amp; Garden / Garden &amp; Patio / Outdoor Setti...</td>\n",
       "      <td>I have 2 of these - collection only as I don’t...</td>\n",
       "      <td>£20.00</td>\n",
       "      <td>Skegness, Lincolnshire</td>\n",
       "      <td>1426704576</td>\n",
       "      <td>2022-02-26</td>\n",
       "    </tr>\n",
       "    <tr>\n",
       "      <th>4</th>\n",
       "      <td>59948726-29be-4b35-ade5-bb2fd7331856</td>\n",
       "      <td>Coffee side table from Ammunition ammo box hai...</td>\n",
       "      <td>Home &amp; Garden / Dining, Living Room Furniture ...</td>\n",
       "      <td>Great reclaimed army ammunition box used as co...</td>\n",
       "      <td>£115.00</td>\n",
       "      <td>Radstock, Somerset</td>\n",
       "      <td>1426704575</td>\n",
       "      <td>2022-02-26</td>\n",
       "    </tr>\n",
       "  </tbody>\n",
       "</table>\n",
       "</div>"
      ],
      "text/plain": [
       "                                     id  \\\n",
       "0  ac2140ae-f0d5-4fe7-ac08-df0f109fd734   \n",
       "1  243809c0-9cfc-4486-ad12-3b7a16605ba9   \n",
       "2  1c58d3f9-8b93-47ea-9415-204fcc2a22e6   \n",
       "3  860673f1-57f6-47ba-8d2f-13f9e05b8f9a   \n",
       "4  59948726-29be-4b35-ade5-bb2fd7331856   \n",
       "\n",
       "                                        product_name  \\\n",
       "0  Second-Hand Sofas, Couches & Armchairs for Sal...   \n",
       "1  Mirror wall art | in Wokingham, Berkshire | Gu...   \n",
       "2  Stainless Steel Food Steamer | in Inverness, H...   \n",
       "3  Sun loungers | in Skegness, Lincolnshire | Gum...   \n",
       "4  Coffee side table from Ammunition ammo box hai...   \n",
       "\n",
       "                                            category  \\\n",
       "0                                                N/A   \n",
       "1  Home & Garden / Dining, Living Room Furniture ...   \n",
       "2              Home & Garden / Other Household Goods   \n",
       "3  Home & Garden / Garden & Patio / Outdoor Setti...   \n",
       "4  Home & Garden / Dining, Living Room Furniture ...   \n",
       "\n",
       "                                 product_description    price  \\\n",
       "0                                                N/A      N/A   \n",
       "1  Mirror wall art. Posted by Nisha in Dining, Li...    £5.00   \n",
       "2  Morphy Richard’s (model no 48755)Stainless ste...   £20.00   \n",
       "3  I have 2 of these - collection only as I don’t...   £20.00   \n",
       "4  Great reclaimed army ammunition box used as co...  £115.00   \n",
       "\n",
       "                 location     page_id create_time  \n",
       "0                     N/A  1426592234  2022-02-26  \n",
       "1    Wokingham, Berkshire  1426704584  2022-02-26  \n",
       "2     Inverness, Highland  1426704579  2022-02-26  \n",
       "3  Skegness, Lincolnshire  1426704576  2022-02-26  \n",
       "4      Radstock, Somerset  1426704575  2022-02-26  "
      ]
     },
     "execution_count": 3,
     "metadata": {},
     "output_type": "execute_result"
    }
   ],
   "source": [
    "df = pd.read_sql('products', engine)\n",
    "\n",
    "(df.head())"
   ]
  },
  {
   "cell_type": "code",
   "execution_count": 1,
   "metadata": {},
   "outputs": [
    {
     "data": {
      "text/plain": [
       "<function __main__.<lambda>(x)>"
      ]
     },
     "execution_count": 1,
     "metadata": {},
     "output_type": "execute_result"
    }
   ],
   "source": [
    "lambda x: 5+x"
   ]
  },
  {
   "cell_type": "code",
   "execution_count": 3,
   "metadata": {},
   "outputs": [
    {
     "data": {
      "text/plain": [
       "id                             object\n",
       "product_name                   object\n",
       "category                       object\n",
       "product_description            object\n",
       "price                          object\n",
       "location                       object\n",
       "page_id                         int64\n",
       "create_time            datetime64[ns]\n",
       "dtype: object"
      ]
     },
     "execution_count": 3,
     "metadata": {},
     "output_type": "execute_result"
    }
   ],
   "source": [
    "df.dtypes # Find the object types for each column. Make sure every column has correct data type."
   ]
  },
  {
   "cell_type": "code",
   "execution_count": 4,
   "metadata": {},
   "outputs": [
    {
     "name": "stdout",
     "output_type": "stream",
     "text": [
      "<class 'pandas.core.frame.DataFrame'>\n",
      "RangeIndex: 8091 entries, 0 to 8090\n",
      "Data columns (total 8 columns):\n",
      " #   Column               Non-Null Count  Dtype         \n",
      "---  ------               --------------  -----         \n",
      " 0   id                   8091 non-null   object        \n",
      " 1   product_name         8091 non-null   object        \n",
      " 2   category             8091 non-null   object        \n",
      " 3   product_description  8091 non-null   object        \n",
      " 4   price                8091 non-null   object        \n",
      " 5   location             8091 non-null   object        \n",
      " 6   page_id              8091 non-null   int64         \n",
      " 7   create_time          8091 non-null   datetime64[ns]\n",
      "dtypes: datetime64[ns](1), int64(1), object(6)\n",
      "memory usage: 505.8+ KB\n"
     ]
    }
   ],
   "source": [
    "df.info() # Find the object types and number of nulls using .info()"
   ]
  },
  {
   "cell_type": "code",
   "execution_count": null,
   "metadata": {},
   "outputs": [],
   "source": [
    "df['price'].sum() # This is not ideal"
   ]
  },
  {
   "cell_type": "code",
   "execution_count": 5,
   "metadata": {},
   "outputs": [
    {
     "name": "stdout",
     "output_type": "stream",
     "text": [
      "{'id': 0, 'product_name': 0, 'price': 935, 'category': 935, 'product_description': 935, 'location': 935, 'page_id': 0, 'create_time': 0}\n"
     ]
    }
   ],
   "source": [
    "questionable_columns = ['id','product_name','price', 'category','product_description', 'location', 'page_id','create_time']\n",
    "na_counts = {col: 0 for col in questionable_columns}\n",
    "for col in questionable_columns:\n",
    "    na_counts[col] = df[col][df[col] == 'N/A'].count()\n",
    "    \n",
    "print(na_counts)"
   ]
  },
  {
   "cell_type": "code",
   "execution_count": 6,
   "metadata": {},
   "outputs": [
    {
     "name": "stderr",
     "output_type": "stream",
     "text": [
      "Matplotlib is building the font cache; this may take a moment.\n"
     ]
    },
    {
     "data": {
      "text/plain": [
       "<AxesSubplot:>"
      ]
     },
     "execution_count": 6,
     "metadata": {},
     "output_type": "execute_result"
    },
    {
     "data": {
      "image/png": "[encoded data removed]",
      "text/plain": [
       "<Figure size 1800x720 with 2 Axes>"
      ]
     },
     "metadata": {
      "needs_background": "light"
     },
     "output_type": "display_data"
    }
   ],
   "source": [
    "import missingno as msno\n",
    "msno.matrix(df)"
   ]
  },
  {
   "cell_type": "code",
   "execution_count": null,
   "metadata": {},
   "outputs": [],
   "source": [
    "df = df[df['EPS'].notna()]"
   ]
  },
  {
   "cell_type": "code",
   "execution_count": 9,
   "metadata": {},
   "outputs": [
    {
     "ename": "ValueError",
     "evalue": "could not convert string to float: 'N/A'",
     "output_type": "error",
     "traceback": [
      "\u001b[0;31m---------------------------------------------------------------------------\u001b[0m",
      "\u001b[0;31mValueError\u001b[0m                                Traceback (most recent call last)",
      "\u001b[1;32m/home/abdul/Desktop/scratch/ML_eng/clean_tabular.ipynb Cell 6'\u001b[0m in \u001b[0;36m<cell line: 2>\u001b[0;34m()\u001b[0m\n\u001b[1;32m      <a href='vscode-notebook-cell:/home/abdul/Desktop/scratch/ML_eng/clean_tabular.ipynb#ch0000005?line=0'>1</a>\u001b[0m df[\u001b[39m'\u001b[39m\u001b[39mprice\u001b[39m\u001b[39m'\u001b[39m] \u001b[39m=\u001b[39m df[\u001b[39m'\u001b[39m\u001b[39mprice\u001b[39m\u001b[39m'\u001b[39m]\u001b[39m.\u001b[39mstr\u001b[39m.\u001b[39mstrip(\u001b[39m'\u001b[39m\u001b[39m£\u001b[39m\u001b[39m'\u001b[39m)\n\u001b[0;32m----> <a href='vscode-notebook-cell:/home/abdul/Desktop/scratch/ML_eng/clean_tabular.ipynb#ch0000005?line=1'>2</a>\u001b[0m df[\u001b[39m'\u001b[39m\u001b[39mprice\u001b[39m\u001b[39m'\u001b[39m] \u001b[39m=\u001b[39m df[\u001b[39m'\u001b[39;49m\u001b[39mprice\u001b[39;49m\u001b[39m'\u001b[39;49m]\u001b[39m.\u001b[39;49mastype(\u001b[39m'\u001b[39;49m\u001b[39mfloat64\u001b[39;49m\u001b[39m'\u001b[39;49m)\n\u001b[1;32m      <a href='vscode-notebook-cell:/home/abdul/Desktop/scratch/ML_eng/clean_tabular.ipynb#ch0000005?line=2'>3</a>\u001b[0m df[\u001b[39m'\u001b[39m\u001b[39mprice\u001b[39m\u001b[39m'\u001b[39m]\u001b[39m.\u001b[39msum()\n",
      "File \u001b[0;32m~/miniconda3/envs/mle_env/lib/python3.9/site-packages/pandas/core/generic.py:5912\u001b[0m, in \u001b[0;36mNDFrame.astype\u001b[0;34m(self, dtype, copy, errors)\u001b[0m\n\u001b[1;32m   <a href='file:///home/abdul/miniconda3/envs/mle_env/lib/python3.9/site-packages/pandas/core/generic.py?line=5904'>5905</a>\u001b[0m     results \u001b[39m=\u001b[39m [\n\u001b[1;32m   <a href='file:///home/abdul/miniconda3/envs/mle_env/lib/python3.9/site-packages/pandas/core/generic.py?line=5905'>5906</a>\u001b[0m         \u001b[39mself\u001b[39m\u001b[39m.\u001b[39miloc[:, i]\u001b[39m.\u001b[39mastype(dtype, copy\u001b[39m=\u001b[39mcopy)\n\u001b[1;32m   <a href='file:///home/abdul/miniconda3/envs/mle_env/lib/python3.9/site-packages/pandas/core/generic.py?line=5906'>5907</a>\u001b[0m         \u001b[39mfor\u001b[39;00m i \u001b[39min\u001b[39;00m \u001b[39mrange\u001b[39m(\u001b[39mlen\u001b[39m(\u001b[39mself\u001b[39m\u001b[39m.\u001b[39mcolumns))\n\u001b[1;32m   <a href='file:///home/abdul/miniconda3/envs/mle_env/lib/python3.9/site-packages/pandas/core/generic.py?line=5907'>5908</a>\u001b[0m     ]\n\u001b[1;32m   <a href='file:///home/abdul/miniconda3/envs/mle_env/lib/python3.9/site-packages/pandas/core/generic.py?line=5909'>5910</a>\u001b[0m \u001b[39melse\u001b[39;00m:\n\u001b[1;32m   <a href='file:///home/abdul/miniconda3/envs/mle_env/lib/python3.9/site-packages/pandas/core/generic.py?line=5910'>5911</a>\u001b[0m     \u001b[39m# else, only a single dtype is given\u001b[39;00m\n\u001b[0;32m-> <a href='file:///home/abdul/miniconda3/envs/mle_env/lib/python3.9/site-packages/pandas/core/generic.py?line=5911'>5912</a>\u001b[0m     new_data \u001b[39m=\u001b[39m \u001b[39mself\u001b[39;49m\u001b[39m.\u001b[39;49m_mgr\u001b[39m.\u001b[39;49mastype(dtype\u001b[39m=\u001b[39;49mdtype, copy\u001b[39m=\u001b[39;49mcopy, errors\u001b[39m=\u001b[39;49merrors)\n\u001b[1;32m   <a href='file:///home/abdul/miniconda3/envs/mle_env/lib/python3.9/site-packages/pandas/core/generic.py?line=5912'>5913</a>\u001b[0m     \u001b[39mreturn\u001b[39;00m \u001b[39mself\u001b[39m\u001b[39m.\u001b[39m_constructor(new_data)\u001b[39m.\u001b[39m__finalize__(\u001b[39mself\u001b[39m, method\u001b[39m=\u001b[39m\u001b[39m\"\u001b[39m\u001b[39mastype\u001b[39m\u001b[39m\"\u001b[39m)\n\u001b[1;32m   <a href='file:///home/abdul/miniconda3/envs/mle_env/lib/python3.9/site-packages/pandas/core/generic.py?line=5914'>5915</a>\u001b[0m \u001b[39m# GH 33113: handle empty frame or series\u001b[39;00m\n",
      "File \u001b[0;32m~/miniconda3/envs/mle_env/lib/python3.9/site-packages/pandas/core/internals/managers.py:419\u001b[0m, in \u001b[0;36mBaseBlockManager.astype\u001b[0;34m(self, dtype, copy, errors)\u001b[0m\n\u001b[1;32m    <a href='file:///home/abdul/miniconda3/envs/mle_env/lib/python3.9/site-packages/pandas/core/internals/managers.py?line=417'>418</a>\u001b[0m \u001b[39mdef\u001b[39;00m \u001b[39mastype\u001b[39m(\u001b[39mself\u001b[39m: T, dtype, copy: \u001b[39mbool\u001b[39m \u001b[39m=\u001b[39m \u001b[39mFalse\u001b[39;00m, errors: \u001b[39mstr\u001b[39m \u001b[39m=\u001b[39m \u001b[39m\"\u001b[39m\u001b[39mraise\u001b[39m\u001b[39m\"\u001b[39m) \u001b[39m-\u001b[39m\u001b[39m>\u001b[39m T:\n\u001b[0;32m--> <a href='file:///home/abdul/miniconda3/envs/mle_env/lib/python3.9/site-packages/pandas/core/internals/managers.py?line=418'>419</a>\u001b[0m     \u001b[39mreturn\u001b[39;00m \u001b[39mself\u001b[39;49m\u001b[39m.\u001b[39;49mapply(\u001b[39m\"\u001b[39;49m\u001b[39mastype\u001b[39;49m\u001b[39m\"\u001b[39;49m, dtype\u001b[39m=\u001b[39;49mdtype, copy\u001b[39m=\u001b[39;49mcopy, errors\u001b[39m=\u001b[39;49merrors)\n",
      "File \u001b[0;32m~/miniconda3/envs/mle_env/lib/python3.9/site-packages/pandas/core/internals/managers.py:304\u001b[0m, in \u001b[0;36mBaseBlockManager.apply\u001b[0;34m(self, f, align_keys, ignore_failures, **kwargs)\u001b[0m\n\u001b[1;32m    <a href='file:///home/abdul/miniconda3/envs/mle_env/lib/python3.9/site-packages/pandas/core/internals/managers.py?line=301'>302</a>\u001b[0m         applied \u001b[39m=\u001b[39m b\u001b[39m.\u001b[39mapply(f, \u001b[39m*\u001b[39m\u001b[39m*\u001b[39mkwargs)\n\u001b[1;32m    <a href='file:///home/abdul/miniconda3/envs/mle_env/lib/python3.9/site-packages/pandas/core/internals/managers.py?line=302'>303</a>\u001b[0m     \u001b[39melse\u001b[39;00m:\n\u001b[0;32m--> <a href='file:///home/abdul/miniconda3/envs/mle_env/lib/python3.9/site-packages/pandas/core/internals/managers.py?line=303'>304</a>\u001b[0m         applied \u001b[39m=\u001b[39m \u001b[39mgetattr\u001b[39;49m(b, f)(\u001b[39m*\u001b[39;49m\u001b[39m*\u001b[39;49mkwargs)\n\u001b[1;32m    <a href='file:///home/abdul/miniconda3/envs/mle_env/lib/python3.9/site-packages/pandas/core/internals/managers.py?line=304'>305</a>\u001b[0m \u001b[39mexcept\u001b[39;00m (\u001b[39mTypeError\u001b[39;00m, \u001b[39mNotImplementedError\u001b[39;00m):\n\u001b[1;32m    <a href='file:///home/abdul/miniconda3/envs/mle_env/lib/python3.9/site-packages/pandas/core/internals/managers.py?line=305'>306</a>\u001b[0m     \u001b[39mif\u001b[39;00m \u001b[39mnot\u001b[39;00m ignore_failures:\n",
      "File \u001b[0;32m~/miniconda3/envs/mle_env/lib/python3.9/site-packages/pandas/core/internals/blocks.py:580\u001b[0m, in \u001b[0;36mBlock.astype\u001b[0;34m(self, dtype, copy, errors)\u001b[0m\n\u001b[1;32m    <a href='file:///home/abdul/miniconda3/envs/mle_env/lib/python3.9/site-packages/pandas/core/internals/blocks.py?line=561'>562</a>\u001b[0m \u001b[39m\"\"\"\u001b[39;00m\n\u001b[1;32m    <a href='file:///home/abdul/miniconda3/envs/mle_env/lib/python3.9/site-packages/pandas/core/internals/blocks.py?line=562'>563</a>\u001b[0m \u001b[39mCoerce to the new dtype.\u001b[39;00m\n\u001b[1;32m    <a href='file:///home/abdul/miniconda3/envs/mle_env/lib/python3.9/site-packages/pandas/core/internals/blocks.py?line=563'>564</a>\u001b[0m \n\u001b[0;32m   (...)\u001b[0m\n\u001b[1;32m    <a href='file:///home/abdul/miniconda3/envs/mle_env/lib/python3.9/site-packages/pandas/core/internals/blocks.py?line=575'>576</a>\u001b[0m \u001b[39mBlock\u001b[39;00m\n\u001b[1;32m    <a href='file:///home/abdul/miniconda3/envs/mle_env/lib/python3.9/site-packages/pandas/core/internals/blocks.py?line=576'>577</a>\u001b[0m \u001b[39m\"\"\"\u001b[39;00m\n\u001b[1;32m    <a href='file:///home/abdul/miniconda3/envs/mle_env/lib/python3.9/site-packages/pandas/core/internals/blocks.py?line=577'>578</a>\u001b[0m values \u001b[39m=\u001b[39m \u001b[39mself\u001b[39m\u001b[39m.\u001b[39mvalues\n\u001b[0;32m--> <a href='file:///home/abdul/miniconda3/envs/mle_env/lib/python3.9/site-packages/pandas/core/internals/blocks.py?line=579'>580</a>\u001b[0m new_values \u001b[39m=\u001b[39m astype_array_safe(values, dtype, copy\u001b[39m=\u001b[39;49mcopy, errors\u001b[39m=\u001b[39;49merrors)\n\u001b[1;32m    <a href='file:///home/abdul/miniconda3/envs/mle_env/lib/python3.9/site-packages/pandas/core/internals/blocks.py?line=581'>582</a>\u001b[0m new_values \u001b[39m=\u001b[39m maybe_coerce_values(new_values)\n\u001b[1;32m    <a href='file:///home/abdul/miniconda3/envs/mle_env/lib/python3.9/site-packages/pandas/core/internals/blocks.py?line=582'>583</a>\u001b[0m newb \u001b[39m=\u001b[39m \u001b[39mself\u001b[39m\u001b[39m.\u001b[39mmake_block(new_values)\n",
      "File \u001b[0;32m~/miniconda3/envs/mle_env/lib/python3.9/site-packages/pandas/core/dtypes/cast.py:1292\u001b[0m, in \u001b[0;36mastype_array_safe\u001b[0;34m(values, dtype, copy, errors)\u001b[0m\n\u001b[1;32m   <a href='file:///home/abdul/miniconda3/envs/mle_env/lib/python3.9/site-packages/pandas/core/dtypes/cast.py?line=1288'>1289</a>\u001b[0m     dtype \u001b[39m=\u001b[39m dtype\u001b[39m.\u001b[39mnumpy_dtype\n\u001b[1;32m   <a href='file:///home/abdul/miniconda3/envs/mle_env/lib/python3.9/site-packages/pandas/core/dtypes/cast.py?line=1290'>1291</a>\u001b[0m \u001b[39mtry\u001b[39;00m:\n\u001b[0;32m-> <a href='file:///home/abdul/miniconda3/envs/mle_env/lib/python3.9/site-packages/pandas/core/dtypes/cast.py?line=1291'>1292</a>\u001b[0m     new_values \u001b[39m=\u001b[39m astype_array(values, dtype, copy\u001b[39m=\u001b[39;49mcopy)\n\u001b[1;32m   <a href='file:///home/abdul/miniconda3/envs/mle_env/lib/python3.9/site-packages/pandas/core/dtypes/cast.py?line=1292'>1293</a>\u001b[0m \u001b[39mexcept\u001b[39;00m (\u001b[39mValueError\u001b[39;00m, \u001b[39mTypeError\u001b[39;00m):\n\u001b[1;32m   <a href='file:///home/abdul/miniconda3/envs/mle_env/lib/python3.9/site-packages/pandas/core/dtypes/cast.py?line=1293'>1294</a>\u001b[0m     \u001b[39m# e.g. astype_nansafe can fail on object-dtype of strings\u001b[39;00m\n\u001b[1;32m   <a href='file:///home/abdul/miniconda3/envs/mle_env/lib/python3.9/site-packages/pandas/core/dtypes/cast.py?line=1294'>1295</a>\u001b[0m     \u001b[39m#  trying to convert to float\u001b[39;00m\n\u001b[1;32m   <a href='file:///home/abdul/miniconda3/envs/mle_env/lib/python3.9/site-packages/pandas/core/dtypes/cast.py?line=1295'>1296</a>\u001b[0m     \u001b[39mif\u001b[39;00m errors \u001b[39m==\u001b[39m \u001b[39m\"\u001b[39m\u001b[39mignore\u001b[39m\u001b[39m\"\u001b[39m:\n",
      "File \u001b[0;32m~/miniconda3/envs/mle_env/lib/python3.9/site-packages/pandas/core/dtypes/cast.py:1237\u001b[0m, in \u001b[0;36mastype_array\u001b[0;34m(values, dtype, copy)\u001b[0m\n\u001b[1;32m   <a href='file:///home/abdul/miniconda3/envs/mle_env/lib/python3.9/site-packages/pandas/core/dtypes/cast.py?line=1233'>1234</a>\u001b[0m     values \u001b[39m=\u001b[39m values\u001b[39m.\u001b[39mastype(dtype, copy\u001b[39m=\u001b[39mcopy)\n\u001b[1;32m   <a href='file:///home/abdul/miniconda3/envs/mle_env/lib/python3.9/site-packages/pandas/core/dtypes/cast.py?line=1235'>1236</a>\u001b[0m \u001b[39melse\u001b[39;00m:\n\u001b[0;32m-> <a href='file:///home/abdul/miniconda3/envs/mle_env/lib/python3.9/site-packages/pandas/core/dtypes/cast.py?line=1236'>1237</a>\u001b[0m     values \u001b[39m=\u001b[39m astype_nansafe(values, dtype, copy\u001b[39m=\u001b[39;49mcopy)\n\u001b[1;32m   <a href='file:///home/abdul/miniconda3/envs/mle_env/lib/python3.9/site-packages/pandas/core/dtypes/cast.py?line=1238'>1239</a>\u001b[0m \u001b[39m# in pandas we don't store numpy str dtypes, so convert to object\u001b[39;00m\n\u001b[1;32m   <a href='file:///home/abdul/miniconda3/envs/mle_env/lib/python3.9/site-packages/pandas/core/dtypes/cast.py?line=1239'>1240</a>\u001b[0m \u001b[39mif\u001b[39;00m \u001b[39misinstance\u001b[39m(dtype, np\u001b[39m.\u001b[39mdtype) \u001b[39mand\u001b[39;00m \u001b[39missubclass\u001b[39m(values\u001b[39m.\u001b[39mdtype\u001b[39m.\u001b[39mtype, \u001b[39mstr\u001b[39m):\n",
      "File \u001b[0;32m~/miniconda3/envs/mle_env/lib/python3.9/site-packages/pandas/core/dtypes/cast.py:1181\u001b[0m, in \u001b[0;36mastype_nansafe\u001b[0;34m(arr, dtype, copy, skipna)\u001b[0m\n\u001b[1;32m   <a href='file:///home/abdul/miniconda3/envs/mle_env/lib/python3.9/site-packages/pandas/core/dtypes/cast.py?line=1176'>1177</a>\u001b[0m     \u001b[39mraise\u001b[39;00m \u001b[39mValueError\u001b[39;00m(msg)\n\u001b[1;32m   <a href='file:///home/abdul/miniconda3/envs/mle_env/lib/python3.9/site-packages/pandas/core/dtypes/cast.py?line=1178'>1179</a>\u001b[0m \u001b[39mif\u001b[39;00m copy \u001b[39mor\u001b[39;00m is_object_dtype(arr\u001b[39m.\u001b[39mdtype) \u001b[39mor\u001b[39;00m is_object_dtype(dtype):\n\u001b[1;32m   <a href='file:///home/abdul/miniconda3/envs/mle_env/lib/python3.9/site-packages/pandas/core/dtypes/cast.py?line=1179'>1180</a>\u001b[0m     \u001b[39m# Explicit copy, or required since NumPy can't view from / to object.\u001b[39;00m\n\u001b[0;32m-> <a href='file:///home/abdul/miniconda3/envs/mle_env/lib/python3.9/site-packages/pandas/core/dtypes/cast.py?line=1180'>1181</a>\u001b[0m     \u001b[39mreturn\u001b[39;00m arr\u001b[39m.\u001b[39;49mastype(dtype, copy\u001b[39m=\u001b[39;49m\u001b[39mTrue\u001b[39;49;00m)\n\u001b[1;32m   <a href='file:///home/abdul/miniconda3/envs/mle_env/lib/python3.9/site-packages/pandas/core/dtypes/cast.py?line=1182'>1183</a>\u001b[0m \u001b[39mreturn\u001b[39;00m arr\u001b[39m.\u001b[39mastype(dtype, copy\u001b[39m=\u001b[39mcopy)\n",
      "\u001b[0;31mValueError\u001b[0m: could not convert string to float: 'N/A'"
     ]
    }
   ],
   "source": [
    "df['price'] = df['price'].str.strip('£')\n",
    "df['price'] = df['price'].astype('float64') # this doesn't work as some rows have 'N/A' which are str\n",
    "df['price'].sum() "
   ]
  },
  {
   "cell_type": "code",
   "execution_count": 14,
   "metadata": {},
   "outputs": [
    {
     "data": {
      "text/plain": [
       "count     8091\n",
       "unique     436\n",
       "top        N/A\n",
       "freq       935\n",
       "Name: category, dtype: object"
      ]
     },
     "execution_count": 14,
     "metadata": {},
     "output_type": "execute_result"
    }
   ],
   "source": [
    "df['category'].describe()"
   ]
  },
  {
   "cell_type": "code",
   "execution_count": 11,
   "metadata": {},
   "outputs": [
    {
     "data": {
      "text/plain": [
       "0                                                     N/A\n",
       "1       Home & Garden / Dining, Living Room Furniture ...\n",
       "2                   Home & Garden / Other Household Goods\n",
       "3       Home & Garden / Garden & Patio / Outdoor Setti...\n",
       "4       Home & Garden / Dining, Living Room Furniture ...\n",
       "                              ...                        \n",
       "8086    Video Games & Consoles / Consoles / PS4 (Sony ...\n",
       "8087                                                  N/A\n",
       "8088    Video Games & Consoles / Other Video Games & C...\n",
       "8089    Video Games & Consoles / Video Game Accessorie...\n",
       "8090                       Video Games & Consoles / Games\n",
       "Name: category, Length: 8091, dtype: object"
      ]
     },
     "execution_count": 11,
     "metadata": {},
     "output_type": "execute_result"
    }
   ],
   "source": [
    "df['category']"
   ]
  },
  {
   "cell_type": "code",
   "execution_count": 12,
   "metadata": {},
   "outputs": [
    {
     "data": {
      "text/plain": [
       "0"
      ]
     },
     "execution_count": 12,
     "metadata": {},
     "output_type": "execute_result"
    }
   ],
   "source": [
    "df.duplicated().sum() #check if any full duplicates, True = 1 so if duplicates the sum > 0 "
   ]
  },
  {
   "cell_type": "code",
   "execution_count": 14,
   "metadata": {},
   "outputs": [
    {
     "data": {
      "text/plain": [
       "7655"
      ]
     },
     "execution_count": 14,
     "metadata": {},
     "output_type": "execute_result"
    }
   ],
   "source": [
    "columns = ['product_name','id']\n",
    "df.duplicated('category','first').sum() #number of duplicates for this column(s)"
   ]
  },
  {
   "cell_type": "code",
   "execution_count": 13,
   "metadata": {},
   "outputs": [
    {
     "data": {
      "text/html": [
       "<div>\n",
       "<style scoped>\n",
       "    .dataframe tbody tr th:only-of-type {\n",
       "        vertical-align: middle;\n",
       "    }\n",
       "\n",
       "    .dataframe tbody tr th {\n",
       "        vertical-align: top;\n",
       "    }\n",
       "\n",
       "    .dataframe thead th {\n",
       "        text-align: right;\n",
       "    }\n",
       "</style>\n",
       "<table border=\"1\" class=\"dataframe\">\n",
       "  <thead>\n",
       "    <tr style=\"text-align: right;\">\n",
       "      <th></th>\n",
       "      <th>id</th>\n",
       "      <th>product_name</th>\n",
       "      <th>category</th>\n",
       "      <th>product_description</th>\n",
       "      <th>price</th>\n",
       "      <th>location</th>\n",
       "      <th>page_id</th>\n",
       "      <th>create_time</th>\n",
       "    </tr>\n",
       "  </thead>\n",
       "  <tbody>\n",
       "    <tr>\n",
       "      <th>6625</th>\n",
       "      <td>3b85f391-8987-45c3-bf26-57a5c6fbec32</td>\n",
       "      <td>\"Benefit\" collectable make-up sets | in Newcas...</td>\n",
       "      <td>Health &amp; Beauty / Make Up &amp; Cosmetics</td>\n",
       "      <td>\"Benefit\" birthday cake and Mini van. Never us...</td>\n",
       "      <td>£30.00</td>\n",
       "      <td>Newcastle, Tyne and Wear</td>\n",
       "      <td>1423439515</td>\n",
       "      <td>2022-02-27</td>\n",
       "    </tr>\n",
       "    <tr>\n",
       "      <th>4233</th>\n",
       "      <td>9f064c54-ef21-46b4-8fd2-83d215c5f0e8</td>\n",
       "      <td>'Game Of Life Zapped' Board Game (new)  | in R...</td>\n",
       "      <td>Music, Films, Books &amp; Games / Games &amp; Board Games</td>\n",
       "      <td>New &amp; unused.\\r Buy three £10 games for £20 (p...</td>\n",
       "      <td>£10.00</td>\n",
       "      <td>Reading, Berkshire</td>\n",
       "      <td>1426719548</td>\n",
       "      <td>2022-02-27</td>\n",
       "    </tr>\n",
       "    <tr>\n",
       "      <th>4428</th>\n",
       "      <td>c286676d-6b75-4eed-a87e-f120d6d39d63</td>\n",
       "      <td>'Magic The Gathering' Starter Game &amp; Video (19...</td>\n",
       "      <td>Music, Films, Books &amp; Games / Games &amp; Board Games</td>\n",
       "      <td>Game in good condition: Video new &amp; sealed.\\r ...</td>\n",
       "      <td>£100.00</td>\n",
       "      <td>Reading, Berkshire</td>\n",
       "      <td>1426714756</td>\n",
       "      <td>2022-02-27</td>\n",
       "    </tr>\n",
       "    <tr>\n",
       "      <th>547</th>\n",
       "      <td>4745bfb2-4700-4694-b183-da7594ec7f6a</td>\n",
       "      <td>'Salem' by Philip Martin - LIMITED Edition pri...</td>\n",
       "      <td>Home &amp; Garden / Dining, Living Room Furniture ...</td>\n",
       "      <td>'Salem' by Philip Martin - LIMITED Edition pri...</td>\n",
       "      <td>£10.00</td>\n",
       "      <td>Toton, Nottinghamshire</td>\n",
       "      <td>1255422328</td>\n",
       "      <td>2022-02-26</td>\n",
       "    </tr>\n",
       "    <tr>\n",
       "      <th>4410</th>\n",
       "      <td>e3c0ee9f-88b1-4101-81a5-705fdeaff9c1</td>\n",
       "      <td>'The Famous Robin Hood' Card Game  | in Readin...</td>\n",
       "      <td>Music, Films, Books &amp; Games / Games &amp; Board Games</td>\n",
       "      <td>In good condition.\\r Willing to accept certain...</td>\n",
       "      <td>£50.00</td>\n",
       "      <td>Reading, Berkshire</td>\n",
       "      <td>1426715375</td>\n",
       "      <td>2022-02-27</td>\n",
       "    </tr>\n",
       "    <tr>\n",
       "      <th>...</th>\n",
       "      <td>...</td>\n",
       "      <td>...</td>\n",
       "      <td>...</td>\n",
       "      <td>...</td>\n",
       "      <td>...</td>\n",
       "      <td>...</td>\n",
       "      <td>...</td>\n",
       "      <td>...</td>\n",
       "    </tr>\n",
       "    <tr>\n",
       "      <th>827</th>\n",
       "      <td>002c3592-a0c2-45c3-a5a7-6cef51fe3fc3</td>\n",
       "      <td>🔥🔥🔥log burners🔥🔥🔥🔥🔥🔥🔥 | in Kelty, Fife | Gumtree</td>\n",
       "      <td>Home &amp; Garden / Garden &amp; Patio / Barbeques &amp; O...</td>\n",
       "      <td>Log burners available Deposits may be required...</td>\n",
       "      <td>£70.00</td>\n",
       "      <td>Kelty, Fife</td>\n",
       "      <td>1426705580</td>\n",
       "      <td>2022-02-26</td>\n",
       "    </tr>\n",
       "    <tr>\n",
       "      <th>1375</th>\n",
       "      <td>2a5101ae-0797-411e-bcdb-f42116df8bad</td>\n",
       "      <td>🚒 FAST POSTAGE ! Men Women Boys Girls Tracksui...</td>\n",
       "      <td>Clothes, Footwear &amp; Accessories / Men's Clothi...</td>\n",
       "      <td>BRAND NEW and  HIGH QUALITY !\\r BUY IT NOW 👉 h...</td>\n",
       "      <td>£20.00</td>\n",
       "      <td>East Croydon, London</td>\n",
       "      <td>1422660590</td>\n",
       "      <td>2022-02-26</td>\n",
       "    </tr>\n",
       "    <tr>\n",
       "      <th>3574</th>\n",
       "      <td>d916693d-854b-4a70-80cf-36bf014f8d1e</td>\n",
       "      <td>🛎 TOWER T24021 DIGITAL SOLO MICROWAVE - BLACK ...</td>\n",
       "      <td>Appliances / Small Appliances / Microwave Ovens</td>\n",
       "      <td>Only collection 🛎 TOWER T24021 DIGITAL SOLO MI...</td>\n",
       "      <td>£80.00</td>\n",
       "      <td>Haringey, London</td>\n",
       "      <td>1423933915</td>\n",
       "      <td>2022-02-27</td>\n",
       "    </tr>\n",
       "    <tr>\n",
       "      <th>6667</th>\n",
       "      <td>dd90a0e5-c147-4549-a7fe-10a66d84058e</td>\n",
       "      <td>🟩 1 X Perching Chair &amp; 1 X Stool | in Atherton...</td>\n",
       "      <td>Health &amp; Beauty / Mobility, Disability &amp; Medical</td>\n",
       "      <td>☀️NO TXTS☀️\\r🔹️Used good condition\\r£10 for Ch...</td>\n",
       "      <td>£18.00</td>\n",
       "      <td>Atherton, Manchester</td>\n",
       "      <td>1426695639</td>\n",
       "      <td>2022-02-27</td>\n",
       "    </tr>\n",
       "    <tr>\n",
       "      <th>6686</th>\n",
       "      <td>93d59f3c-1829-4f2f-8bcf-8557e929c96e</td>\n",
       "      <td>🟩 Folding Wheelchair Only has one Footrest/Han...</td>\n",
       "      <td>Health &amp; Beauty / Mobility, Disability &amp; Medical</td>\n",
       "      <td>☀️NO TXTS☀️\\r🔹️Used good condition &amp; in Full W...</td>\n",
       "      <td>£30.00</td>\n",
       "      <td>Atherton, Manchester</td>\n",
       "      <td>1426694877</td>\n",
       "      <td>2022-02-27</td>\n",
       "    </tr>\n",
       "  </tbody>\n",
       "</table>\n",
       "<p>8091 rows × 8 columns</p>\n",
       "</div>"
      ],
      "text/plain": [
       "                                        id  \\\n",
       "6625  3b85f391-8987-45c3-bf26-57a5c6fbec32   \n",
       "4233  9f064c54-ef21-46b4-8fd2-83d215c5f0e8   \n",
       "4428  c286676d-6b75-4eed-a87e-f120d6d39d63   \n",
       "547   4745bfb2-4700-4694-b183-da7594ec7f6a   \n",
       "4410  e3c0ee9f-88b1-4101-81a5-705fdeaff9c1   \n",
       "...                                    ...   \n",
       "827   002c3592-a0c2-45c3-a5a7-6cef51fe3fc3   \n",
       "1375  2a5101ae-0797-411e-bcdb-f42116df8bad   \n",
       "3574  d916693d-854b-4a70-80cf-36bf014f8d1e   \n",
       "6667  dd90a0e5-c147-4549-a7fe-10a66d84058e   \n",
       "6686  93d59f3c-1829-4f2f-8bcf-8557e929c96e   \n",
       "\n",
       "                                           product_name  \\\n",
       "6625  \"Benefit\" collectable make-up sets | in Newcas...   \n",
       "4233  'Game Of Life Zapped' Board Game (new)  | in R...   \n",
       "4428  'Magic The Gathering' Starter Game & Video (19...   \n",
       "547   'Salem' by Philip Martin - LIMITED Edition pri...   \n",
       "4410  'The Famous Robin Hood' Card Game  | in Readin...   \n",
       "...                                                 ...   \n",
       "827    🔥🔥🔥log burners🔥🔥🔥🔥🔥🔥🔥 | in Kelty, Fife | Gumtree   \n",
       "1375  🚒 FAST POSTAGE ! Men Women Boys Girls Tracksui...   \n",
       "3574  🛎 TOWER T24021 DIGITAL SOLO MICROWAVE - BLACK ...   \n",
       "6667  🟩 1 X Perching Chair & 1 X Stool | in Atherton...   \n",
       "6686  🟩 Folding Wheelchair Only has one Footrest/Han...   \n",
       "\n",
       "                                               category  \\\n",
       "6625              Health & Beauty / Make Up & Cosmetics   \n",
       "4233  Music, Films, Books & Games / Games & Board Games   \n",
       "4428  Music, Films, Books & Games / Games & Board Games   \n",
       "547   Home & Garden / Dining, Living Room Furniture ...   \n",
       "4410  Music, Films, Books & Games / Games & Board Games   \n",
       "...                                                 ...   \n",
       "827   Home & Garden / Garden & Patio / Barbeques & O...   \n",
       "1375  Clothes, Footwear & Accessories / Men's Clothi...   \n",
       "3574    Appliances / Small Appliances / Microwave Ovens   \n",
       "6667   Health & Beauty / Mobility, Disability & Medical   \n",
       "6686   Health & Beauty / Mobility, Disability & Medical   \n",
       "\n",
       "                                    product_description    price  \\\n",
       "6625  \"Benefit\" birthday cake and Mini van. Never us...   £30.00   \n",
       "4233  New & unused.\\r Buy three £10 games for £20 (p...   £10.00   \n",
       "4428  Game in good condition: Video new & sealed.\\r ...  £100.00   \n",
       "547   'Salem' by Philip Martin - LIMITED Edition pri...   £10.00   \n",
       "4410  In good condition.\\r Willing to accept certain...   £50.00   \n",
       "...                                                 ...      ...   \n",
       "827   Log burners available Deposits may be required...   £70.00   \n",
       "1375  BRAND NEW and  HIGH QUALITY !\\r BUY IT NOW 👉 h...   £20.00   \n",
       "3574  Only collection 🛎 TOWER T24021 DIGITAL SOLO MI...   £80.00   \n",
       "6667  ☀️NO TXTS☀️\\r🔹️Used good condition\\r£10 for Ch...   £18.00   \n",
       "6686  ☀️NO TXTS☀️\\r🔹️Used good condition & in Full W...   £30.00   \n",
       "\n",
       "                      location     page_id create_time  \n",
       "6625  Newcastle, Tyne and Wear  1423439515  2022-02-27  \n",
       "4233        Reading, Berkshire  1426719548  2022-02-27  \n",
       "4428        Reading, Berkshire  1426714756  2022-02-27  \n",
       "547     Toton, Nottinghamshire  1255422328  2022-02-26  \n",
       "4410        Reading, Berkshire  1426715375  2022-02-27  \n",
       "...                        ...         ...         ...  \n",
       "827                Kelty, Fife  1426705580  2022-02-26  \n",
       "1375      East Croydon, London  1422660590  2022-02-26  \n",
       "3574          Haringey, London  1423933915  2022-02-27  \n",
       "6667      Atherton, Manchester  1426695639  2022-02-27  \n",
       "6686      Atherton, Manchester  1426694877  2022-02-27  \n",
       "\n",
       "[8091 rows x 8 columns]"
      ]
     },
     "execution_count": 13,
     "metadata": {},
     "output_type": "execute_result"
    }
   ],
   "source": [
    "df.sort_values(by = ['product_name']) "
   ]
  },
  {
   "cell_type": "code",
   "execution_count": 6,
   "metadata": {},
   "outputs": [
    {
     "data": {
      "text/plain": [
       "id                     0\n",
       "product_name           0\n",
       "category               0\n",
       "product_description    0\n",
       "price                  0\n",
       "location               0\n",
       "page_id                0\n",
       "create_time            0\n",
       "dtype: int64"
      ]
     },
     "execution_count": 6,
     "metadata": {},
     "output_type": "execute_result"
    }
   ],
   "source": [
    "df.isna().sum()"
   ]
  },
  {
   "cell_type": "code",
   "execution_count": 9,
   "metadata": {},
   "outputs": [
    {
     "data": {
      "text/plain": [
       "(8091, 8)"
      ]
     },
     "execution_count": 9,
     "metadata": {},
     "output_type": "execute_result"
    }
   ],
   "source": [
    "df.shape"
   ]
  },
  {
   "cell_type": "code",
   "execution_count": 33,
   "metadata": {},
   "outputs": [
    {
     "data": {
      "text/plain": [
       "(7156, 13)"
      ]
     },
     "execution_count": 33,
     "metadata": {},
     "output_type": "execute_result"
    }
   ],
   "source": [
    "data = df.loc[df[\"price\"] != 'N/A'] #removes all rows with 'N/A' for prices\n",
    "data.shape"
   ]
  },
  {
   "cell_type": "code",
   "execution_count": 13,
   "metadata": {},
   "outputs": [
    {
     "name": "stderr",
     "output_type": "stream",
     "text": [
      "/tmp/ipykernel_99363/350580167.py:1: SettingWithCopyWarning: \n",
      "A value is trying to be set on a copy of a slice from a DataFrame.\n",
      "Try using .loc[row_indexer,col_indexer] = value instead\n",
      "\n",
      "See the caveats in the documentation: https://pandas.pydata.org/pandas-docs/stable/user_guide/indexing.html#returning-a-view-versus-a-copy\n",
      "  data['price'] = data['price'].str.strip('£')\n"
     ]
    },
    {
     "ename": "ValueError",
     "evalue": "could not convert string to float: '1,900.00'",
     "output_type": "error",
     "traceback": [
      "\u001b[0;31m---------------------------------------------------------------------------\u001b[0m",
      "\u001b[0;31mValueError\u001b[0m                                Traceback (most recent call last)",
      "\u001b[1;32m/home/abdul/Desktop/scratch/ML_eng/clean_tabular.ipynb Cell 18'\u001b[0m in \u001b[0;36m<cell line: 2>\u001b[0;34m()\u001b[0m\n\u001b[1;32m      <a href='vscode-notebook-cell:/home/abdul/Desktop/scratch/ML_eng/clean_tabular.ipynb#ch0000017?line=0'>1</a>\u001b[0m data[\u001b[39m'\u001b[39m\u001b[39mprice\u001b[39m\u001b[39m'\u001b[39m] \u001b[39m=\u001b[39m data[\u001b[39m'\u001b[39m\u001b[39mprice\u001b[39m\u001b[39m'\u001b[39m]\u001b[39m.\u001b[39mstr\u001b[39m.\u001b[39mstrip(\u001b[39m'\u001b[39m\u001b[39m£\u001b[39m\u001b[39m'\u001b[39m)\n\u001b[0;32m----> <a href='vscode-notebook-cell:/home/abdul/Desktop/scratch/ML_eng/clean_tabular.ipynb#ch0000017?line=1'>2</a>\u001b[0m data[\u001b[39m'\u001b[39m\u001b[39mprice\u001b[39m\u001b[39m'\u001b[39m] \u001b[39m=\u001b[39m data[\u001b[39m'\u001b[39;49m\u001b[39mprice\u001b[39;49m\u001b[39m'\u001b[39;49m]\u001b[39m.\u001b[39;49mastype(\u001b[39m'\u001b[39;49m\u001b[39mfloat64\u001b[39;49m\u001b[39m'\u001b[39;49m)\n\u001b[1;32m      <a href='vscode-notebook-cell:/home/abdul/Desktop/scratch/ML_eng/clean_tabular.ipynb#ch0000017?line=2'>3</a>\u001b[0m data[\u001b[39m'\u001b[39m\u001b[39mprice\u001b[39m\u001b[39m'\u001b[39m]\u001b[39m.\u001b[39msum()\n",
      "File \u001b[0;32m~/miniconda3/envs/mle_env/lib/python3.9/site-packages/pandas/core/generic.py:5912\u001b[0m, in \u001b[0;36mNDFrame.astype\u001b[0;34m(self, dtype, copy, errors)\u001b[0m\n\u001b[1;32m   <a href='file:///home/abdul/miniconda3/envs/mle_env/lib/python3.9/site-packages/pandas/core/generic.py?line=5904'>5905</a>\u001b[0m     results \u001b[39m=\u001b[39m [\n\u001b[1;32m   <a href='file:///home/abdul/miniconda3/envs/mle_env/lib/python3.9/site-packages/pandas/core/generic.py?line=5905'>5906</a>\u001b[0m         \u001b[39mself\u001b[39m\u001b[39m.\u001b[39miloc[:, i]\u001b[39m.\u001b[39mastype(dtype, copy\u001b[39m=\u001b[39mcopy)\n\u001b[1;32m   <a href='file:///home/abdul/miniconda3/envs/mle_env/lib/python3.9/site-packages/pandas/core/generic.py?line=5906'>5907</a>\u001b[0m         \u001b[39mfor\u001b[39;00m i \u001b[39min\u001b[39;00m \u001b[39mrange\u001b[39m(\u001b[39mlen\u001b[39m(\u001b[39mself\u001b[39m\u001b[39m.\u001b[39mcolumns))\n\u001b[1;32m   <a href='file:///home/abdul/miniconda3/envs/mle_env/lib/python3.9/site-packages/pandas/core/generic.py?line=5907'>5908</a>\u001b[0m     ]\n\u001b[1;32m   <a href='file:///home/abdul/miniconda3/envs/mle_env/lib/python3.9/site-packages/pandas/core/generic.py?line=5909'>5910</a>\u001b[0m \u001b[39melse\u001b[39;00m:\n\u001b[1;32m   <a href='file:///home/abdul/miniconda3/envs/mle_env/lib/python3.9/site-packages/pandas/core/generic.py?line=5910'>5911</a>\u001b[0m     \u001b[39m# else, only a single dtype is given\u001b[39;00m\n\u001b[0;32m-> <a href='file:///home/abdul/miniconda3/envs/mle_env/lib/python3.9/site-packages/pandas/core/generic.py?line=5911'>5912</a>\u001b[0m     new_data \u001b[39m=\u001b[39m \u001b[39mself\u001b[39;49m\u001b[39m.\u001b[39;49m_mgr\u001b[39m.\u001b[39;49mastype(dtype\u001b[39m=\u001b[39;49mdtype, copy\u001b[39m=\u001b[39;49mcopy, errors\u001b[39m=\u001b[39;49merrors)\n\u001b[1;32m   <a href='file:///home/abdul/miniconda3/envs/mle_env/lib/python3.9/site-packages/pandas/core/generic.py?line=5912'>5913</a>\u001b[0m     \u001b[39mreturn\u001b[39;00m \u001b[39mself\u001b[39m\u001b[39m.\u001b[39m_constructor(new_data)\u001b[39m.\u001b[39m__finalize__(\u001b[39mself\u001b[39m, method\u001b[39m=\u001b[39m\u001b[39m\"\u001b[39m\u001b[39mastype\u001b[39m\u001b[39m\"\u001b[39m)\n\u001b[1;32m   <a href='file:///home/abdul/miniconda3/envs/mle_env/lib/python3.9/site-packages/pandas/core/generic.py?line=5914'>5915</a>\u001b[0m \u001b[39m# GH 33113: handle empty frame or series\u001b[39;00m\n",
      "File \u001b[0;32m~/miniconda3/envs/mle_env/lib/python3.9/site-packages/pandas/core/internals/managers.py:419\u001b[0m, in \u001b[0;36mBaseBlockManager.astype\u001b[0;34m(self, dtype, copy, errors)\u001b[0m\n\u001b[1;32m    <a href='file:///home/abdul/miniconda3/envs/mle_env/lib/python3.9/site-packages/pandas/core/internals/managers.py?line=417'>418</a>\u001b[0m \u001b[39mdef\u001b[39;00m \u001b[39mastype\u001b[39m(\u001b[39mself\u001b[39m: T, dtype, copy: \u001b[39mbool\u001b[39m \u001b[39m=\u001b[39m \u001b[39mFalse\u001b[39;00m, errors: \u001b[39mstr\u001b[39m \u001b[39m=\u001b[39m \u001b[39m\"\u001b[39m\u001b[39mraise\u001b[39m\u001b[39m\"\u001b[39m) \u001b[39m-\u001b[39m\u001b[39m>\u001b[39m T:\n\u001b[0;32m--> <a href='file:///home/abdul/miniconda3/envs/mle_env/lib/python3.9/site-packages/pandas/core/internals/managers.py?line=418'>419</a>\u001b[0m     \u001b[39mreturn\u001b[39;00m \u001b[39mself\u001b[39;49m\u001b[39m.\u001b[39;49mapply(\u001b[39m\"\u001b[39;49m\u001b[39mastype\u001b[39;49m\u001b[39m\"\u001b[39;49m, dtype\u001b[39m=\u001b[39;49mdtype, copy\u001b[39m=\u001b[39;49mcopy, errors\u001b[39m=\u001b[39;49merrors)\n",
      "File \u001b[0;32m~/miniconda3/envs/mle_env/lib/python3.9/site-packages/pandas/core/internals/managers.py:304\u001b[0m, in \u001b[0;36mBaseBlockManager.apply\u001b[0;34m(self, f, align_keys, ignore_failures, **kwargs)\u001b[0m\n\u001b[1;32m    <a href='file:///home/abdul/miniconda3/envs/mle_env/lib/python3.9/site-packages/pandas/core/internals/managers.py?line=301'>302</a>\u001b[0m         applied \u001b[39m=\u001b[39m b\u001b[39m.\u001b[39mapply(f, \u001b[39m*\u001b[39m\u001b[39m*\u001b[39mkwargs)\n\u001b[1;32m    <a href='file:///home/abdul/miniconda3/envs/mle_env/lib/python3.9/site-packages/pandas/core/internals/managers.py?line=302'>303</a>\u001b[0m     \u001b[39melse\u001b[39;00m:\n\u001b[0;32m--> <a href='file:///home/abdul/miniconda3/envs/mle_env/lib/python3.9/site-packages/pandas/core/internals/managers.py?line=303'>304</a>\u001b[0m         applied \u001b[39m=\u001b[39m \u001b[39mgetattr\u001b[39;49m(b, f)(\u001b[39m*\u001b[39;49m\u001b[39m*\u001b[39;49mkwargs)\n\u001b[1;32m    <a href='file:///home/abdul/miniconda3/envs/mle_env/lib/python3.9/site-packages/pandas/core/internals/managers.py?line=304'>305</a>\u001b[0m \u001b[39mexcept\u001b[39;00m (\u001b[39mTypeError\u001b[39;00m, \u001b[39mNotImplementedError\u001b[39;00m):\n\u001b[1;32m    <a href='file:///home/abdul/miniconda3/envs/mle_env/lib/python3.9/site-packages/pandas/core/internals/managers.py?line=305'>306</a>\u001b[0m     \u001b[39mif\u001b[39;00m \u001b[39mnot\u001b[39;00m ignore_failures:\n",
      "File \u001b[0;32m~/miniconda3/envs/mle_env/lib/python3.9/site-packages/pandas/core/internals/blocks.py:580\u001b[0m, in \u001b[0;36mBlock.astype\u001b[0;34m(self, dtype, copy, errors)\u001b[0m\n\u001b[1;32m    <a href='file:///home/abdul/miniconda3/envs/mle_env/lib/python3.9/site-packages/pandas/core/internals/blocks.py?line=561'>562</a>\u001b[0m \u001b[39m\"\"\"\u001b[39;00m\n\u001b[1;32m    <a href='file:///home/abdul/miniconda3/envs/mle_env/lib/python3.9/site-packages/pandas/core/internals/blocks.py?line=562'>563</a>\u001b[0m \u001b[39mCoerce to the new dtype.\u001b[39;00m\n\u001b[1;32m    <a href='file:///home/abdul/miniconda3/envs/mle_env/lib/python3.9/site-packages/pandas/core/internals/blocks.py?line=563'>564</a>\u001b[0m \n\u001b[0;32m   (...)\u001b[0m\n\u001b[1;32m    <a href='file:///home/abdul/miniconda3/envs/mle_env/lib/python3.9/site-packages/pandas/core/internals/blocks.py?line=575'>576</a>\u001b[0m \u001b[39mBlock\u001b[39;00m\n\u001b[1;32m    <a href='file:///home/abdul/miniconda3/envs/mle_env/lib/python3.9/site-packages/pandas/core/internals/blocks.py?line=576'>577</a>\u001b[0m \u001b[39m\"\"\"\u001b[39;00m\n\u001b[1;32m    <a href='file:///home/abdul/miniconda3/envs/mle_env/lib/python3.9/site-packages/pandas/core/internals/blocks.py?line=577'>578</a>\u001b[0m values \u001b[39m=\u001b[39m \u001b[39mself\u001b[39m\u001b[39m.\u001b[39mvalues\n\u001b[0;32m--> <a href='file:///home/abdul/miniconda3/envs/mle_env/lib/python3.9/site-packages/pandas/core/internals/blocks.py?line=579'>580</a>\u001b[0m new_values \u001b[39m=\u001b[39m astype_array_safe(values, dtype, copy\u001b[39m=\u001b[39;49mcopy, errors\u001b[39m=\u001b[39;49merrors)\n\u001b[1;32m    <a href='file:///home/abdul/miniconda3/envs/mle_env/lib/python3.9/site-packages/pandas/core/internals/blocks.py?line=581'>582</a>\u001b[0m new_values \u001b[39m=\u001b[39m maybe_coerce_values(new_values)\n\u001b[1;32m    <a href='file:///home/abdul/miniconda3/envs/mle_env/lib/python3.9/site-packages/pandas/core/internals/blocks.py?line=582'>583</a>\u001b[0m newb \u001b[39m=\u001b[39m \u001b[39mself\u001b[39m\u001b[39m.\u001b[39mmake_block(new_values)\n",
      "File \u001b[0;32m~/miniconda3/envs/mle_env/lib/python3.9/site-packages/pandas/core/dtypes/cast.py:1292\u001b[0m, in \u001b[0;36mastype_array_safe\u001b[0;34m(values, dtype, copy, errors)\u001b[0m\n\u001b[1;32m   <a href='file:///home/abdul/miniconda3/envs/mle_env/lib/python3.9/site-packages/pandas/core/dtypes/cast.py?line=1288'>1289</a>\u001b[0m     dtype \u001b[39m=\u001b[39m dtype\u001b[39m.\u001b[39mnumpy_dtype\n\u001b[1;32m   <a href='file:///home/abdul/miniconda3/envs/mle_env/lib/python3.9/site-packages/pandas/core/dtypes/cast.py?line=1290'>1291</a>\u001b[0m \u001b[39mtry\u001b[39;00m:\n\u001b[0;32m-> <a href='file:///home/abdul/miniconda3/envs/mle_env/lib/python3.9/site-packages/pandas/core/dtypes/cast.py?line=1291'>1292</a>\u001b[0m     new_values \u001b[39m=\u001b[39m astype_array(values, dtype, copy\u001b[39m=\u001b[39;49mcopy)\n\u001b[1;32m   <a href='file:///home/abdul/miniconda3/envs/mle_env/lib/python3.9/site-packages/pandas/core/dtypes/cast.py?line=1292'>1293</a>\u001b[0m \u001b[39mexcept\u001b[39;00m (\u001b[39mValueError\u001b[39;00m, \u001b[39mTypeError\u001b[39;00m):\n\u001b[1;32m   <a href='file:///home/abdul/miniconda3/envs/mle_env/lib/python3.9/site-packages/pandas/core/dtypes/cast.py?line=1293'>1294</a>\u001b[0m     \u001b[39m# e.g. astype_nansafe can fail on object-dtype of strings\u001b[39;00m\n\u001b[1;32m   <a href='file:///home/abdul/miniconda3/envs/mle_env/lib/python3.9/site-packages/pandas/core/dtypes/cast.py?line=1294'>1295</a>\u001b[0m     \u001b[39m#  trying to convert to float\u001b[39;00m\n\u001b[1;32m   <a href='file:///home/abdul/miniconda3/envs/mle_env/lib/python3.9/site-packages/pandas/core/dtypes/cast.py?line=1295'>1296</a>\u001b[0m     \u001b[39mif\u001b[39;00m errors \u001b[39m==\u001b[39m \u001b[39m\"\u001b[39m\u001b[39mignore\u001b[39m\u001b[39m\"\u001b[39m:\n",
      "File \u001b[0;32m~/miniconda3/envs/mle_env/lib/python3.9/site-packages/pandas/core/dtypes/cast.py:1237\u001b[0m, in \u001b[0;36mastype_array\u001b[0;34m(values, dtype, copy)\u001b[0m\n\u001b[1;32m   <a href='file:///home/abdul/miniconda3/envs/mle_env/lib/python3.9/site-packages/pandas/core/dtypes/cast.py?line=1233'>1234</a>\u001b[0m     values \u001b[39m=\u001b[39m values\u001b[39m.\u001b[39mastype(dtype, copy\u001b[39m=\u001b[39mcopy)\n\u001b[1;32m   <a href='file:///home/abdul/miniconda3/envs/mle_env/lib/python3.9/site-packages/pandas/core/dtypes/cast.py?line=1235'>1236</a>\u001b[0m \u001b[39melse\u001b[39;00m:\n\u001b[0;32m-> <a href='file:///home/abdul/miniconda3/envs/mle_env/lib/python3.9/site-packages/pandas/core/dtypes/cast.py?line=1236'>1237</a>\u001b[0m     values \u001b[39m=\u001b[39m astype_nansafe(values, dtype, copy\u001b[39m=\u001b[39;49mcopy)\n\u001b[1;32m   <a href='file:///home/abdul/miniconda3/envs/mle_env/lib/python3.9/site-packages/pandas/core/dtypes/cast.py?line=1238'>1239</a>\u001b[0m \u001b[39m# in pandas we don't store numpy str dtypes, so convert to object\u001b[39;00m\n\u001b[1;32m   <a href='file:///home/abdul/miniconda3/envs/mle_env/lib/python3.9/site-packages/pandas/core/dtypes/cast.py?line=1239'>1240</a>\u001b[0m \u001b[39mif\u001b[39;00m \u001b[39misinstance\u001b[39m(dtype, np\u001b[39m.\u001b[39mdtype) \u001b[39mand\u001b[39;00m \u001b[39missubclass\u001b[39m(values\u001b[39m.\u001b[39mdtype\u001b[39m.\u001b[39mtype, \u001b[39mstr\u001b[39m):\n",
      "File \u001b[0;32m~/miniconda3/envs/mle_env/lib/python3.9/site-packages/pandas/core/dtypes/cast.py:1181\u001b[0m, in \u001b[0;36mastype_nansafe\u001b[0;34m(arr, dtype, copy, skipna)\u001b[0m\n\u001b[1;32m   <a href='file:///home/abdul/miniconda3/envs/mle_env/lib/python3.9/site-packages/pandas/core/dtypes/cast.py?line=1176'>1177</a>\u001b[0m     \u001b[39mraise\u001b[39;00m \u001b[39mValueError\u001b[39;00m(msg)\n\u001b[1;32m   <a href='file:///home/abdul/miniconda3/envs/mle_env/lib/python3.9/site-packages/pandas/core/dtypes/cast.py?line=1178'>1179</a>\u001b[0m \u001b[39mif\u001b[39;00m copy \u001b[39mor\u001b[39;00m is_object_dtype(arr\u001b[39m.\u001b[39mdtype) \u001b[39mor\u001b[39;00m is_object_dtype(dtype):\n\u001b[1;32m   <a href='file:///home/abdul/miniconda3/envs/mle_env/lib/python3.9/site-packages/pandas/core/dtypes/cast.py?line=1179'>1180</a>\u001b[0m     \u001b[39m# Explicit copy, or required since NumPy can't view from / to object.\u001b[39;00m\n\u001b[0;32m-> <a href='file:///home/abdul/miniconda3/envs/mle_env/lib/python3.9/site-packages/pandas/core/dtypes/cast.py?line=1180'>1181</a>\u001b[0m     \u001b[39mreturn\u001b[39;00m arr\u001b[39m.\u001b[39;49mastype(dtype, copy\u001b[39m=\u001b[39;49m\u001b[39mTrue\u001b[39;49;00m)\n\u001b[1;32m   <a href='file:///home/abdul/miniconda3/envs/mle_env/lib/python3.9/site-packages/pandas/core/dtypes/cast.py?line=1182'>1183</a>\u001b[0m \u001b[39mreturn\u001b[39;00m arr\u001b[39m.\u001b[39mastype(dtype, copy\u001b[39m=\u001b[39mcopy)\n",
      "\u001b[0;31mValueError\u001b[0m: could not convert string to float: '1,900.00'"
     ]
    }
   ],
   "source": [
    "data['price'] = data['price'].str.strip('£')\n",
    "data['price'] = data['price'].astype('float64') #there are still commas in our strings so need to get rid of that\n",
    "data['price'].sum() "
   ]
  },
  {
   "cell_type": "code",
   "execution_count": 14,
   "metadata": {},
   "outputs": [
    {
     "name": "stderr",
     "output_type": "stream",
     "text": [
      "/tmp/ipykernel_99363/3674291866.py:1: SettingWithCopyWarning: \n",
      "A value is trying to be set on a copy of a slice from a DataFrame.\n",
      "Try using .loc[row_indexer,col_indexer] = value instead\n",
      "\n",
      "See the caveats in the documentation: https://pandas.pydata.org/pandas-docs/stable/user_guide/indexing.html#returning-a-view-versus-a-copy\n",
      "  data[\"price\"] = [float(str(i).replace(\",\", \"\")) for i in data[\"price\"]]\n"
     ]
    }
   ],
   "source": [
    "data[\"price\"] = [float(str(i).replace(\",\", \"\")) for i in data[\"price\"]]"
   ]
  },
  {
   "cell_type": "code",
   "execution_count": 16,
   "metadata": {},
   "outputs": [
    {
     "name": "stderr",
     "output_type": "stream",
     "text": [
      "/tmp/ipykernel_99363/1406945763.py:2: SettingWithCopyWarning: \n",
      "A value is trying to be set on a copy of a slice from a DataFrame.\n",
      "Try using .loc[row_indexer,col_indexer] = value instead\n",
      "\n",
      "See the caveats in the documentation: https://pandas.pydata.org/pandas-docs/stable/user_guide/indexing.html#returning-a-view-versus-a-copy\n",
      "  data['price'] = data['price'].astype('float64')\n"
     ]
    },
    {
     "data": {
      "text/plain": [
       "16133412.840000002"
      ]
     },
     "execution_count": 16,
     "metadata": {},
     "output_type": "execute_result"
    }
   ],
   "source": [
    "data['price'] = data['price'].astype('float64') \n",
    "data['price'].sum() # now we see it behaves like a float"
   ]
  },
  {
   "cell_type": "code",
   "execution_count": 17,
   "metadata": {},
   "outputs": [
    {
     "data": {
      "text/plain": [
       "count                                                7156\n",
       "unique                                                435\n",
       "top       Other Goods / Hobbies, Interests & Collectibles\n",
       "freq                                                  286\n",
       "Name: category, dtype: object"
      ]
     },
     "execution_count": 17,
     "metadata": {},
     "output_type": "execute_result"
    }
   ],
   "source": [
    "data['category'].describe() # we will use this to split items into categories"
   ]
  },
  {
   "cell_type": "code",
   "execution_count": 18,
   "metadata": {},
   "outputs": [
    {
     "data": {
      "text/plain": [
       "count                                                  7156\n",
       "unique                                                 7095\n",
       "top       Various Original Albums from collection / All ...\n",
       "freq                                                      4\n",
       "Name: product_name, dtype: object"
      ]
     },
     "execution_count": 18,
     "metadata": {},
     "output_type": "execute_result"
    }
   ],
   "source": [
    "data['product_name'].describe()"
   ]
  },
  {
   "cell_type": "code",
   "execution_count": 19,
   "metadata": {},
   "outputs": [
    {
     "name": "stderr",
     "output_type": "stream",
     "text": [
      "/tmp/ipykernel_99363/187651687.py:1: SettingWithCopyWarning: \n",
      "A value is trying to be set on a copy of a slice from a DataFrame.\n",
      "Try using .loc[row_indexer,col_indexer] = value instead\n",
      "\n",
      "See the caveats in the documentation: https://pandas.pydata.org/pandas-docs/stable/user_guide/indexing.html#returning-a-view-versus-a-copy\n",
      "  data['category'] = data['category'].astype('category')\n"
     ]
    }
   ],
   "source": [
    "data['category'] = data['category'].astype('category') #set this to category type"
   ]
  },
  {
   "cell_type": "code",
   "execution_count": 20,
   "metadata": {},
   "outputs": [
    {
     "data": {
      "text/plain": [
       "id                             object\n",
       "product_name                   object\n",
       "category                     category\n",
       "product_description            object\n",
       "price                         float64\n",
       "location                       object\n",
       "page_id                         int64\n",
       "create_time            datetime64[ns]\n",
       "dtype: object"
      ]
     },
     "execution_count": 20,
     "metadata": {},
     "output_type": "execute_result"
    }
   ],
   "source": [
    "data.dtypes"
   ]
  },
  {
   "cell_type": "code",
   "execution_count": 21,
   "metadata": {},
   "outputs": [
    {
     "data": {
      "text/plain": [
       "count                       7156\n",
       "unique                      1610\n",
       "top       Southampton, Hampshire\n",
       "freq                         155\n",
       "Name: location, dtype: object"
      ]
     },
     "execution_count": 21,
     "metadata": {},
     "output_type": "execute_result"
    }
   ],
   "source": [
    "data['location'].describe()"
   ]
  },
  {
   "cell_type": "code",
   "execution_count": 22,
   "metadata": {},
   "outputs": [
    {
     "name": "stderr",
     "output_type": "stream",
     "text": [
      "/tmp/ipykernel_99363/2931533880.py:1: SettingWithCopyWarning: \n",
      "A value is trying to be set on a copy of a slice from a DataFrame.\n",
      "Try using .loc[row_indexer,col_indexer] = value instead\n",
      "\n",
      "See the caveats in the documentation: https://pandas.pydata.org/pandas-docs/stable/user_guide/indexing.html#returning-a-view-versus-a-copy\n",
      "  data['location'] = data['location'].astype('category')\n"
     ]
    }
   ],
   "source": [
    "data['location'] = data['location'].astype('category')"
   ]
  },
  {
   "cell_type": "code",
   "execution_count": 23,
   "metadata": {},
   "outputs": [
    {
     "data": {
      "text/plain": [
       "id                             object\n",
       "product_name                   object\n",
       "category                     category\n",
       "product_description            object\n",
       "price                         float64\n",
       "location                     category\n",
       "page_id                         int64\n",
       "create_time            datetime64[ns]\n",
       "dtype: object"
      ]
     },
     "execution_count": 23,
     "metadata": {},
     "output_type": "execute_result"
    }
   ],
   "source": [
    "data.dtypes"
   ]
  },
  {
   "cell_type": "code",
   "execution_count": 67,
   "metadata": {},
   "outputs": [
    {
     "data": {
      "text/html": [
       "<div>\n",
       "<style scoped>\n",
       "    .dataframe tbody tr th:only-of-type {\n",
       "        vertical-align: middle;\n",
       "    }\n",
       "\n",
       "    .dataframe tbody tr th {\n",
       "        vertical-align: top;\n",
       "    }\n",
       "\n",
       "    .dataframe thead th {\n",
       "        text-align: right;\n",
       "    }\n",
       "</style>\n",
       "<table border=\"1\" class=\"dataframe\">\n",
       "  <thead>\n",
       "    <tr style=\"text-align: right;\">\n",
       "      <th></th>\n",
       "      <th>price</th>\n",
       "      <th>page_id</th>\n",
       "    </tr>\n",
       "  </thead>\n",
       "  <tbody>\n",
       "    <tr>\n",
       "      <th>count</th>\n",
       "      <td>7.156000e+03</td>\n",
       "      <td>7.156000e+03</td>\n",
       "    </tr>\n",
       "    <tr>\n",
       "      <th>mean</th>\n",
       "      <td>2.254529e+03</td>\n",
       "      <td>1.419364e+09</td>\n",
       "    </tr>\n",
       "    <tr>\n",
       "      <th>std</th>\n",
       "      <td>1.208243e+05</td>\n",
       "      <td>2.165159e+07</td>\n",
       "    </tr>\n",
       "    <tr>\n",
       "      <th>min</th>\n",
       "      <td>0.000000e+00</td>\n",
       "      <td>1.015227e+09</td>\n",
       "    </tr>\n",
       "    <tr>\n",
       "      <th>25%</th>\n",
       "      <td>1.000000e+01</td>\n",
       "      <td>1.423359e+09</td>\n",
       "    </tr>\n",
       "    <tr>\n",
       "      <th>50%</th>\n",
       "      <td>4.000000e+01</td>\n",
       "      <td>1.426703e+09</td>\n",
       "    </tr>\n",
       "    <tr>\n",
       "      <th>75%</th>\n",
       "      <td>1.500000e+02</td>\n",
       "      <td>1.426714e+09</td>\n",
       "    </tr>\n",
       "    <tr>\n",
       "      <th>max</th>\n",
       "      <td>1.000000e+07</td>\n",
       "      <td>1.426727e+09</td>\n",
       "    </tr>\n",
       "  </tbody>\n",
       "</table>\n",
       "</div>"
      ],
      "text/plain": [
       "              price       page_id\n",
       "count  7.156000e+03  7.156000e+03\n",
       "mean   2.254529e+03  1.419364e+09\n",
       "std    1.208243e+05  2.165159e+07\n",
       "min    0.000000e+00  1.015227e+09\n",
       "25%    1.000000e+01  1.423359e+09\n",
       "50%    4.000000e+01  1.426703e+09\n",
       "75%    1.500000e+02  1.426714e+09\n",
       "max    1.000000e+07  1.426727e+09"
      ]
     },
     "execution_count": 67,
     "metadata": {},
     "output_type": "execute_result"
    }
   ],
   "source": [
    "data.describe()"
   ]
  },
  {
   "cell_type": "code",
   "execution_count": 68,
   "metadata": {},
   "outputs": [
    {
     "name": "stderr",
     "output_type": "stream",
     "text": [
      "/tmp/ipykernel_99363/2074916257.py:1: SettingWithCopyWarning: \n",
      "A value is trying to be set on a copy of a slice from a DataFrame.\n",
      "Try using .loc[row_indexer,col_indexer] = value instead\n",
      "\n",
      "See the caveats in the documentation: https://pandas.pydata.org/pandas-docs/stable/user_guide/indexing.html#returning-a-view-versus-a-copy\n",
      "  data['category'] = data['category'].cat.codes\n"
     ]
    }
   ],
   "source": [
    "data['category'] = data['category'].cat.codes"
   ]
  },
  {
   "cell_type": "code",
   "execution_count": 73,
   "metadata": {},
   "outputs": [
    {
     "name": "stderr",
     "output_type": "stream",
     "text": [
      "/tmp/ipykernel_99363/1506013526.py:1: SettingWithCopyWarning: \n",
      "A value is trying to be set on a copy of a slice from a DataFrame.\n",
      "Try using .loc[row_indexer,col_indexer] = value instead\n",
      "\n",
      "See the caveats in the documentation: https://pandas.pydata.org/pandas-docs/stable/user_guide/indexing.html#returning-a-view-versus-a-copy\n",
      "  data['location'] = data['location'].cat.codes\n"
     ]
    }
   ],
   "source": [
    "data['location'] = data['location'].cat.codes"
   ]
  },
  {
   "cell_type": "code",
   "execution_count": 27,
   "metadata": {},
   "outputs": [
    {
     "data": {
      "text/html": [
       "<div>\n",
       "<style scoped>\n",
       "    .dataframe tbody tr th:only-of-type {\n",
       "        vertical-align: middle;\n",
       "    }\n",
       "\n",
       "    .dataframe tbody tr th {\n",
       "        vertical-align: top;\n",
       "    }\n",
       "\n",
       "    .dataframe thead th {\n",
       "        text-align: right;\n",
       "    }\n",
       "</style>\n",
       "<table border=\"1\" class=\"dataframe\">\n",
       "  <thead>\n",
       "    <tr style=\"text-align: right;\">\n",
       "      <th></th>\n",
       "      <th>id</th>\n",
       "      <th>product_name</th>\n",
       "      <th>category</th>\n",
       "      <th>price</th>\n",
       "      <th>location</th>\n",
       "      <th>page_id</th>\n",
       "      <th>create_time</th>\n",
       "    </tr>\n",
       "  </thead>\n",
       "  <tbody>\n",
       "    <tr>\n",
       "      <th>1</th>\n",
       "      <td>243809c0-9cfc-4486-ad12-3b7a16605ba9</td>\n",
       "      <td>Mirror wall art | in Wokingham, Berkshire | Gu...</td>\n",
       "      <td>Home &amp; Garden / Dining, Living Room Furniture ...</td>\n",
       "      <td>5.0</td>\n",
       "      <td>Wokingham, Berkshire</td>\n",
       "      <td>1426704584</td>\n",
       "      <td>2022-02-26</td>\n",
       "    </tr>\n",
       "    <tr>\n",
       "      <th>2</th>\n",
       "      <td>1c58d3f9-8b93-47ea-9415-204fcc2a22e6</td>\n",
       "      <td>Stainless Steel Food Steamer | in Inverness, H...</td>\n",
       "      <td>Home &amp; Garden / Other Household Goods</td>\n",
       "      <td>20.0</td>\n",
       "      <td>Inverness, Highland</td>\n",
       "      <td>1426704579</td>\n",
       "      <td>2022-02-26</td>\n",
       "    </tr>\n",
       "    <tr>\n",
       "      <th>3</th>\n",
       "      <td>860673f1-57f6-47ba-8d2f-13f9e05b8f9a</td>\n",
       "      <td>Sun loungers | in Skegness, Lincolnshire | Gum...</td>\n",
       "      <td>Home &amp; Garden / Garden &amp; Patio / Outdoor Setti...</td>\n",
       "      <td>20.0</td>\n",
       "      <td>Skegness, Lincolnshire</td>\n",
       "      <td>1426704576</td>\n",
       "      <td>2022-02-26</td>\n",
       "    </tr>\n",
       "    <tr>\n",
       "      <th>4</th>\n",
       "      <td>59948726-29be-4b35-ade5-bb2fd7331856</td>\n",
       "      <td>Coffee side table from Ammunition ammo box hai...</td>\n",
       "      <td>Home &amp; Garden / Dining, Living Room Furniture ...</td>\n",
       "      <td>115.0</td>\n",
       "      <td>Radstock, Somerset</td>\n",
       "      <td>1426704575</td>\n",
       "      <td>2022-02-26</td>\n",
       "    </tr>\n",
       "    <tr>\n",
       "      <th>5</th>\n",
       "      <td>16dbc860-696e-4cda-93f6-4dd4926573fb</td>\n",
       "      <td>Modern Shannon Sofa for sale at low cost | in ...</td>\n",
       "      <td>Home &amp; Garden / Dining, Living Room Furniture ...</td>\n",
       "      <td>450.0</td>\n",
       "      <td>Delph, Manchester</td>\n",
       "      <td>1426704570</td>\n",
       "      <td>2022-02-26</td>\n",
       "    </tr>\n",
       "    <tr>\n",
       "      <th>...</th>\n",
       "      <td>...</td>\n",
       "      <td>...</td>\n",
       "      <td>...</td>\n",
       "      <td>...</td>\n",
       "      <td>...</td>\n",
       "      <td>...</td>\n",
       "      <td>...</td>\n",
       "    </tr>\n",
       "    <tr>\n",
       "      <th>8085</th>\n",
       "      <td>c4148656-78a9-4f3e-b393-134fdc5ef900</td>\n",
       "      <td>Sony PlayStation VR Move Bundle | in Acocks Gr...</td>\n",
       "      <td>Video Games &amp; Consoles / Consoles / PS4 (Sony ...</td>\n",
       "      <td>260.0</td>\n",
       "      <td>Acocks Green, West Midlands</td>\n",
       "      <td>1422159237</td>\n",
       "      <td>2022-02-28</td>\n",
       "    </tr>\n",
       "    <tr>\n",
       "      <th>8086</th>\n",
       "      <td>564e3411-768d-4250-a624-b119d696f103</td>\n",
       "      <td>Playstation VR V2 Bundle | in Acocks Green, We...</td>\n",
       "      <td>Video Games &amp; Consoles / Consoles / PS4 (Sony ...</td>\n",
       "      <td>235.0</td>\n",
       "      <td>Acocks Green, West Midlands</td>\n",
       "      <td>1422159464</td>\n",
       "      <td>2022-02-28</td>\n",
       "    </tr>\n",
       "    <tr>\n",
       "      <th>8088</th>\n",
       "      <td>2b0a652b-46a2-4297-b619-5efeeb222787</td>\n",
       "      <td>Oculus quest 2 256gb | in Montrose, Angus | Gu...</td>\n",
       "      <td>Video Games &amp; Consoles / Other Video Games &amp; C...</td>\n",
       "      <td>250.0</td>\n",
       "      <td>Montrose, Angus</td>\n",
       "      <td>1426668818</td>\n",
       "      <td>2022-02-28</td>\n",
       "    </tr>\n",
       "    <tr>\n",
       "      <th>8089</th>\n",
       "      <td>719fd40a-870e-4144-b324-55dff2e66fb4</td>\n",
       "      <td>Logitech driving force shifter | in Carrickfer...</td>\n",
       "      <td>Video Games &amp; Consoles / Video Game Accessorie...</td>\n",
       "      <td>30.0</td>\n",
       "      <td>Carrickfergus, County Antrim</td>\n",
       "      <td>1426699715</td>\n",
       "      <td>2022-02-28</td>\n",
       "    </tr>\n",
       "    <tr>\n",
       "      <th>8090</th>\n",
       "      <td>86d1806b-5575-4a7e-9160-f24f12be6c95</td>\n",
       "      <td>20 GAMES &amp; NINTENDO SWITCH BUNDLE | in Poole, ...</td>\n",
       "      <td>Video Games &amp; Consoles / Games</td>\n",
       "      <td>450.0</td>\n",
       "      <td>Poole, Dorset</td>\n",
       "      <td>1426699649</td>\n",
       "      <td>2022-02-28</td>\n",
       "    </tr>\n",
       "  </tbody>\n",
       "</table>\n",
       "<p>7156 rows × 7 columns</p>\n",
       "</div>"
      ],
      "text/plain": [
       "                                        id  \\\n",
       "1     243809c0-9cfc-4486-ad12-3b7a16605ba9   \n",
       "2     1c58d3f9-8b93-47ea-9415-204fcc2a22e6   \n",
       "3     860673f1-57f6-47ba-8d2f-13f9e05b8f9a   \n",
       "4     59948726-29be-4b35-ade5-bb2fd7331856   \n",
       "5     16dbc860-696e-4cda-93f6-4dd4926573fb   \n",
       "...                                    ...   \n",
       "8085  c4148656-78a9-4f3e-b393-134fdc5ef900   \n",
       "8086  564e3411-768d-4250-a624-b119d696f103   \n",
       "8088  2b0a652b-46a2-4297-b619-5efeeb222787   \n",
       "8089  719fd40a-870e-4144-b324-55dff2e66fb4   \n",
       "8090  86d1806b-5575-4a7e-9160-f24f12be6c95   \n",
       "\n",
       "                                           product_name  \\\n",
       "1     Mirror wall art | in Wokingham, Berkshire | Gu...   \n",
       "2     Stainless Steel Food Steamer | in Inverness, H...   \n",
       "3     Sun loungers | in Skegness, Lincolnshire | Gum...   \n",
       "4     Coffee side table from Ammunition ammo box hai...   \n",
       "5     Modern Shannon Sofa for sale at low cost | in ...   \n",
       "...                                                 ...   \n",
       "8085  Sony PlayStation VR Move Bundle | in Acocks Gr...   \n",
       "8086  Playstation VR V2 Bundle | in Acocks Green, We...   \n",
       "8088  Oculus quest 2 256gb | in Montrose, Angus | Gu...   \n",
       "8089  Logitech driving force shifter | in Carrickfer...   \n",
       "8090  20 GAMES & NINTENDO SWITCH BUNDLE | in Poole, ...   \n",
       "\n",
       "                                               category  price  \\\n",
       "1     Home & Garden / Dining, Living Room Furniture ...    5.0   \n",
       "2                 Home & Garden / Other Household Goods   20.0   \n",
       "3     Home & Garden / Garden & Patio / Outdoor Setti...   20.0   \n",
       "4     Home & Garden / Dining, Living Room Furniture ...  115.0   \n",
       "5     Home & Garden / Dining, Living Room Furniture ...  450.0   \n",
       "...                                                 ...    ...   \n",
       "8085  Video Games & Consoles / Consoles / PS4 (Sony ...  260.0   \n",
       "8086  Video Games & Consoles / Consoles / PS4 (Sony ...  235.0   \n",
       "8088  Video Games & Consoles / Other Video Games & C...  250.0   \n",
       "8089  Video Games & Consoles / Video Game Accessorie...   30.0   \n",
       "8090                     Video Games & Consoles / Games  450.0   \n",
       "\n",
       "                          location     page_id create_time  \n",
       "1             Wokingham, Berkshire  1426704584  2022-02-26  \n",
       "2              Inverness, Highland  1426704579  2022-02-26  \n",
       "3           Skegness, Lincolnshire  1426704576  2022-02-26  \n",
       "4               Radstock, Somerset  1426704575  2022-02-26  \n",
       "5                Delph, Manchester  1426704570  2022-02-26  \n",
       "...                            ...         ...         ...  \n",
       "8085   Acocks Green, West Midlands  1422159237  2022-02-28  \n",
       "8086   Acocks Green, West Midlands  1422159464  2022-02-28  \n",
       "8088               Montrose, Angus  1426668818  2022-02-28  \n",
       "8089  Carrickfergus, County Antrim  1426699715  2022-02-28  \n",
       "8090                 Poole, Dorset  1426699649  2022-02-28  \n",
       "\n",
       "[7156 rows x 7 columns]"
      ]
     },
     "execution_count": 27,
     "metadata": {},
     "output_type": "execute_result"
    }
   ],
   "source": [
    "data.drop(columns=['product_description']) #remove this column as does not provide anything important"
   ]
  },
  {
   "cell_type": "code",
   "execution_count": 30,
   "metadata": {},
   "outputs": [],
   "source": [
    "data.to_csv('clean_data.csv', index=False)\n",
    "df.to_csv('test_data.csv', index=False)"
   ]
  },
  {
   "cell_type": "code",
   "execution_count": 74,
   "metadata": {},
   "outputs": [
    {
     "data": {
      "text/html": [
       "<div>\n",
       "<style scoped>\n",
       "    .dataframe tbody tr th:only-of-type {\n",
       "        vertical-align: middle;\n",
       "    }\n",
       "\n",
       "    .dataframe tbody tr th {\n",
       "        vertical-align: top;\n",
       "    }\n",
       "\n",
       "    .dataframe thead th {\n",
       "        text-align: right;\n",
       "    }\n",
       "</style>\n",
       "<table border=\"1\" class=\"dataframe\">\n",
       "  <thead>\n",
       "    <tr style=\"text-align: right;\">\n",
       "      <th></th>\n",
       "      <th>id</th>\n",
       "      <th>product_name</th>\n",
       "      <th>category</th>\n",
       "      <th>product_description</th>\n",
       "      <th>price</th>\n",
       "      <th>location</th>\n",
       "      <th>page_id</th>\n",
       "      <th>create_time</th>\n",
       "    </tr>\n",
       "  </thead>\n",
       "  <tbody>\n",
       "    <tr>\n",
       "      <th>1</th>\n",
       "      <td>243809c0-9cfc-4486-ad12-3b7a16605ba9</td>\n",
       "      <td>Mirror wall art | in Wokingham, Berkshire | Gu...</td>\n",
       "      <td>251</td>\n",
       "      <td>Mirror wall art. Posted by Nisha in Dining, Li...</td>\n",
       "      <td>5.0</td>\n",
       "      <td>1582</td>\n",
       "      <td>1426704584</td>\n",
       "      <td>2022-02-26</td>\n",
       "    </tr>\n",
       "    <tr>\n",
       "      <th>2</th>\n",
       "      <td>1c58d3f9-8b93-47ea-9415-204fcc2a22e6</td>\n",
       "      <td>Stainless Steel Food Steamer | in Inverness, H...</td>\n",
       "      <td>290</td>\n",
       "      <td>Morphy Richard’s (model no 48755)Stainless ste...</td>\n",
       "      <td>20.0</td>\n",
       "      <td>771</td>\n",
       "      <td>1426704579</td>\n",
       "      <td>2022-02-26</td>\n",
       "    </tr>\n",
       "    <tr>\n",
       "      <th>3</th>\n",
       "      <td>860673f1-57f6-47ba-8d2f-13f9e05b8f9a</td>\n",
       "      <td>Sun loungers | in Skegness, Lincolnshire | Gum...</td>\n",
       "      <td>275</td>\n",
       "      <td>I have 2 of these - collection only as I don’t...</td>\n",
       "      <td>20.0</td>\n",
       "      <td>1295</td>\n",
       "      <td>1426704576</td>\n",
       "      <td>2022-02-26</td>\n",
       "    </tr>\n",
       "    <tr>\n",
       "      <th>4</th>\n",
       "      <td>59948726-29be-4b35-ade5-bb2fd7331856</td>\n",
       "      <td>Coffee side table from Ammunition ammo box hai...</td>\n",
       "      <td>252</td>\n",
       "      <td>Great reclaimed army ammunition box used as co...</td>\n",
       "      <td>115.0</td>\n",
       "      <td>1181</td>\n",
       "      <td>1426704575</td>\n",
       "      <td>2022-02-26</td>\n",
       "    </tr>\n",
       "    <tr>\n",
       "      <th>5</th>\n",
       "      <td>16dbc860-696e-4cda-93f6-4dd4926573fb</td>\n",
       "      <td>Modern Shannon Sofa for sale at low cost | in ...</td>\n",
       "      <td>255</td>\n",
       "      <td>New Design Shannon Corner sofa  5 Seater Avail...</td>\n",
       "      <td>450.0</td>\n",
       "      <td>443</td>\n",
       "      <td>1426704570</td>\n",
       "      <td>2022-02-26</td>\n",
       "    </tr>\n",
       "  </tbody>\n",
       "</table>\n",
       "</div>"
      ],
      "text/plain": [
       "                                     id  \\\n",
       "1  243809c0-9cfc-4486-ad12-3b7a16605ba9   \n",
       "2  1c58d3f9-8b93-47ea-9415-204fcc2a22e6   \n",
       "3  860673f1-57f6-47ba-8d2f-13f9e05b8f9a   \n",
       "4  59948726-29be-4b35-ade5-bb2fd7331856   \n",
       "5  16dbc860-696e-4cda-93f6-4dd4926573fb   \n",
       "\n",
       "                                        product_name  category  \\\n",
       "1  Mirror wall art | in Wokingham, Berkshire | Gu...       251   \n",
       "2  Stainless Steel Food Steamer | in Inverness, H...       290   \n",
       "3  Sun loungers | in Skegness, Lincolnshire | Gum...       275   \n",
       "4  Coffee side table from Ammunition ammo box hai...       252   \n",
       "5  Modern Shannon Sofa for sale at low cost | in ...       255   \n",
       "\n",
       "                                 product_description  price  location  \\\n",
       "1  Mirror wall art. Posted by Nisha in Dining, Li...    5.0      1582   \n",
       "2  Morphy Richard’s (model no 48755)Stainless ste...   20.0       771   \n",
       "3  I have 2 of these - collection only as I don’t...   20.0      1295   \n",
       "4  Great reclaimed army ammunition box used as co...  115.0      1181   \n",
       "5  New Design Shannon Corner sofa  5 Seater Avail...  450.0       443   \n",
       "\n",
       "      page_id create_time  \n",
       "1  1426704584  2022-02-26  \n",
       "2  1426704579  2022-02-26  \n",
       "3  1426704576  2022-02-26  \n",
       "4  1426704575  2022-02-26  \n",
       "5  1426704570  2022-02-26  "
      ]
     },
     "execution_count": 74,
     "metadata": {},
     "output_type": "execute_result"
    }
   ],
   "source": [
    "data.head()"
   ]
  },
  {
   "cell_type": "code",
   "execution_count": 41,
   "metadata": {},
   "outputs": [
    {
     "name": "stderr",
     "output_type": "stream",
     "text": [
      "/home/abdul/miniconda3/envs/mle_env/lib/python3.9/site-packages/seaborn/_decorators.py:36: FutureWarning: Pass the following variables as keyword args: x, y. From version 0.12, the only valid positional argument will be `data`, and passing other arguments without an explicit keyword will result in an error or misinterpretation.\n",
      "  warnings.warn(\n"
     ]
    },
    {
     "data": {
      "text/plain": [
       "<AxesSubplot:xlabel='create_time', ylabel='price'>"
      ]
     },
     "execution_count": 41,
     "metadata": {},
     "output_type": "execute_result"
    },
    {
     "data": {
      "image/png": "[encoded data removed]",
      "text/plain": [
       "<Figure size 432x288 with 1 Axes>"
      ]
     },
     "metadata": {},
     "output_type": "display_data"
    }
   ],
   "source": [
    "import matplotlib.pyplot as plt\n",
    "import seaborn as sns\n",
    "#sns.set()\n",
    "x = data['create_time']\n",
    "y = data ['price']\n",
    "sns.scatterplot(x,y)\n",
    "# plt.plot(x, y)\n",
    "# plt.show()"
   ]
  },
  {
   "cell_type": "code",
   "execution_count": 86,
   "metadata": {},
   "outputs": [
    {
     "name": "stdout",
     "output_type": "stream",
     "text": [
      "(5009, 2)\n",
      "(5009,)\n",
      "(2147, 2)\n",
      "(2147,)\n"
     ]
    }
   ],
   "source": [
    "from sklearn import linear_model\n",
    "from sklearn.model_selection import train_test_split\n",
    "from sklearn import metrics\n",
    "\n",
    "features = ['page_id','category']\n",
    "\n",
    "#X = data.drop('price',axis =1)\n",
    "X = data[features]\n",
    "y = data['price']\n",
    "\n",
    "train_X, test_X, train_y, test_y = train_test_split(X, y, test_size=0.3)\n",
    "\n",
    "print(train_X.shape)\n",
    "print(train_y.shape)\n",
    "print(test_X.shape)\n",
    "print(test_y.shape)\n",
    "\n"
   ]
  },
  {
   "cell_type": "code",
   "execution_count": 87,
   "metadata": {},
   "outputs": [
    {
     "name": "stderr",
     "output_type": "stream",
     "text": [
      "/home/abdul/miniconda3/envs/mle_env/lib/python3.9/site-packages/sklearn/utils/validation.py:1688: FutureWarning: Feature names only support names that are all strings. Got feature names with dtypes: ['quoted_name']. An error will be raised in 1.2.\n",
      "  warnings.warn(\n",
      "/home/abdul/miniconda3/envs/mle_env/lib/python3.9/site-packages/sklearn/utils/validation.py:1688: FutureWarning: Feature names only support names that are all strings. Got feature names with dtypes: ['quoted_name']. An error will be raised in 1.2.\n",
      "  warnings.warn(\n"
     ]
    }
   ],
   "source": [
    "model = linear_model.LinearRegression()\n",
    "\n",
    "model.fit(train_X, train_y)\n",
    "y_pred = model.predict(test_X)"
   ]
  },
  {
   "cell_type": "code",
   "execution_count": 88,
   "metadata": {},
   "outputs": [
    {
     "name": "stdout",
     "output_type": "stream",
     "text": [
      "MSE:  724647335.4954201\n",
      "RMSE:  26919.274423643372\n",
      "R2_score:  -0.005564078809918049\n"
     ]
    }
   ],
   "source": [
    "from sklearn.metrics import mean_squared_error, r2_score \n",
    "import numpy as np\n",
    "\n",
    "def calculate_metrics(y_test, y_pred):  \n",
    "    ''' \n",
    "    y_test:- ground truth \n",
    "    y_pred:- model predict  \n",
    "    '''\n",
    "    mse = mean_squared_error(test_y, y_pred) \n",
    "    rmse = np.sqrt(mse) \n",
    "    r2_scores = r2_score(test_y, y_pred) \n",
    "    \n",
    "    print(\"MSE: \", mse) \n",
    "    print(\"RMSE: \", rmse) \n",
    "    print(\"R2_score: \", r2_scores) \n",
    "    \n",
    "calculate_metrics(test_y, y_pred)"
   ]
  },
  {
   "cell_type": "code",
   "execution_count": 9,
   "metadata": {},
   "outputs": [
    {
     "data": {
      "text/html": [
       "<div>\n",
       "<style scoped>\n",
       "    .dataframe tbody tr th:only-of-type {\n",
       "        vertical-align: middle;\n",
       "    }\n",
       "\n",
       "    .dataframe tbody tr th {\n",
       "        vertical-align: top;\n",
       "    }\n",
       "\n",
       "    .dataframe thead th {\n",
       "        text-align: right;\n",
       "    }\n",
       "</style>\n",
       "<table border=\"1\" class=\"dataframe\">\n",
       "  <thead>\n",
       "    <tr style=\"text-align: right;\">\n",
       "      <th></th>\n",
       "      <th>id</th>\n",
       "      <th>product_name</th>\n",
       "      <th>product_description</th>\n",
       "      <th>price</th>\n",
       "      <th>location</th>\n",
       "      <th>page_id</th>\n",
       "      <th>create_time</th>\n",
       "      <th>category0</th>\n",
       "      <th>category1</th>\n",
       "      <th>category2</th>\n",
       "      <th>category3</th>\n",
       "    </tr>\n",
       "  </thead>\n",
       "  <tbody>\n",
       "    <tr>\n",
       "      <th>0</th>\n",
       "      <td>ac2140ae-f0d5-4fe7-ac08-df0f109fd734</td>\n",
       "      <td>Second-Hand Sofas, Couches &amp; Armchairs for Sal...</td>\n",
       "      <td>N/A</td>\n",
       "      <td>N/A</td>\n",
       "      <td>N/A</td>\n",
       "      <td>1426592234</td>\n",
       "      <td>2022-02-26</td>\n",
       "      <td>N</td>\n",
       "      <td>A</td>\n",
       "      <td>None</td>\n",
       "      <td>None</td>\n",
       "    </tr>\n",
       "    <tr>\n",
       "      <th>1</th>\n",
       "      <td>243809c0-9cfc-4486-ad12-3b7a16605ba9</td>\n",
       "      <td>Mirror wall art | in Wokingham, Berkshire | Gu...</td>\n",
       "      <td>Mirror wall art. Posted by Nisha in Dining, Li...</td>\n",
       "      <td>£5.00</td>\n",
       "      <td>Wokingham, Berkshire</td>\n",
       "      <td>1426704584</td>\n",
       "      <td>2022-02-26</td>\n",
       "      <td>Home &amp; Garden</td>\n",
       "      <td>Dining, Living Room Furniture</td>\n",
       "      <td>Mirrors, Clocks &amp; Ornaments</td>\n",
       "      <td>None</td>\n",
       "    </tr>\n",
       "    <tr>\n",
       "      <th>2</th>\n",
       "      <td>1c58d3f9-8b93-47ea-9415-204fcc2a22e6</td>\n",
       "      <td>Stainless Steel Food Steamer | in Inverness, H...</td>\n",
       "      <td>Morphy Richard’s (model no 48755)Stainless ste...</td>\n",
       "      <td>£20.00</td>\n",
       "      <td>Inverness, Highland</td>\n",
       "      <td>1426704579</td>\n",
       "      <td>2022-02-26</td>\n",
       "      <td>Home &amp; Garden</td>\n",
       "      <td>Other Household Goods</td>\n",
       "      <td>None</td>\n",
       "      <td>None</td>\n",
       "    </tr>\n",
       "    <tr>\n",
       "      <th>3</th>\n",
       "      <td>860673f1-57f6-47ba-8d2f-13f9e05b8f9a</td>\n",
       "      <td>Sun loungers | in Skegness, Lincolnshire | Gum...</td>\n",
       "      <td>I have 2 of these - collection only as I don’t...</td>\n",
       "      <td>£20.00</td>\n",
       "      <td>Skegness, Lincolnshire</td>\n",
       "      <td>1426704576</td>\n",
       "      <td>2022-02-26</td>\n",
       "      <td>Home &amp; Garden</td>\n",
       "      <td>Garden &amp; Patio</td>\n",
       "      <td>Outdoor Settings &amp; Furniture</td>\n",
       "      <td>None</td>\n",
       "    </tr>\n",
       "    <tr>\n",
       "      <th>4</th>\n",
       "      <td>59948726-29be-4b35-ade5-bb2fd7331856</td>\n",
       "      <td>Coffee side table from Ammunition ammo box hai...</td>\n",
       "      <td>Great reclaimed army ammunition box used as co...</td>\n",
       "      <td>£115.00</td>\n",
       "      <td>Radstock, Somerset</td>\n",
       "      <td>1426704575</td>\n",
       "      <td>2022-02-26</td>\n",
       "      <td>Home &amp; Garden</td>\n",
       "      <td>Dining, Living Room Furniture</td>\n",
       "      <td>Other</td>\n",
       "      <td>None</td>\n",
       "    </tr>\n",
       "    <tr>\n",
       "      <th>...</th>\n",
       "      <td>...</td>\n",
       "      <td>...</td>\n",
       "      <td>...</td>\n",
       "      <td>...</td>\n",
       "      <td>...</td>\n",
       "      <td>...</td>\n",
       "      <td>...</td>\n",
       "      <td>...</td>\n",
       "      <td>...</td>\n",
       "      <td>...</td>\n",
       "      <td>...</td>\n",
       "    </tr>\n",
       "    <tr>\n",
       "      <th>195</th>\n",
       "      <td>c374f5ed-0f8e-4cbd-8d08-384d3b500351</td>\n",
       "      <td>Pair of Stag Minstrel Bedside Drawers / Bedsid...</td>\n",
       "      <td>A pair of Black Stag Minstrel bedside tables w...</td>\n",
       "      <td>£125.00</td>\n",
       "      <td>Solihull, West Midlands</td>\n",
       "      <td>1426702525</td>\n",
       "      <td>2022-02-26</td>\n",
       "      <td>Home &amp; Garden</td>\n",
       "      <td>Beds &amp; Bedroom Furniture</td>\n",
       "      <td>Bedside Tables</td>\n",
       "      <td>None</td>\n",
       "    </tr>\n",
       "    <tr>\n",
       "      <th>196</th>\n",
       "      <td>b62d8acb-a674-4892-970a-87b5c0db5f0f</td>\n",
       "      <td>Other Bedroom Furniture for Sale in Bournemout...</td>\n",
       "      <td>N/A</td>\n",
       "      <td>N/A</td>\n",
       "      <td>N/A</td>\n",
       "      <td>1423737083</td>\n",
       "      <td>2022-02-26</td>\n",
       "      <td>N</td>\n",
       "      <td>A</td>\n",
       "      <td>None</td>\n",
       "      <td>None</td>\n",
       "    </tr>\n",
       "    <tr>\n",
       "      <th>197</th>\n",
       "      <td>21ce5b1c-3d1f-4e8d-b23f-0d61079712d9</td>\n",
       "      <td>Wall and Floor Tiles | in Sunderland, Tyne and...</td>\n",
       "      <td>12 boxes x 20 tiles \\r6 boxes matching floor t...</td>\n",
       "      <td>£100.00</td>\n",
       "      <td>Sunderland, Tyne and Wear</td>\n",
       "      <td>1425685056</td>\n",
       "      <td>2022-02-26</td>\n",
       "      <td>Home &amp; Garden</td>\n",
       "      <td>Other Household Goods</td>\n",
       "      <td>None</td>\n",
       "      <td>None</td>\n",
       "    </tr>\n",
       "    <tr>\n",
       "      <th>198</th>\n",
       "      <td>1910df44-c471-4552-a87c-de6a4415fc01</td>\n",
       "      <td>Coffee table | in Sidcup, London | Gumtree</td>\n",
       "      <td>Solid very heavy coffee table with draw. Colle...</td>\n",
       "      <td>£120.00</td>\n",
       "      <td>Sidcup, London</td>\n",
       "      <td>1426409804</td>\n",
       "      <td>2022-02-26</td>\n",
       "      <td>Home &amp; Garden</td>\n",
       "      <td>Dining, Living Room Furniture</td>\n",
       "      <td>Coffee table</td>\n",
       "      <td>None</td>\n",
       "    </tr>\n",
       "    <tr>\n",
       "      <th>199</th>\n",
       "      <td>3e715599-560e-44c0-96d5-ddec87d03792</td>\n",
       "      <td>Raft Furniture Lifestyle TV Stand RRP £684 | i...</td>\n",
       "      <td>Raft Furniture Lifestyle TV Cabinet RRP £684. ...</td>\n",
       "      <td>£150.00</td>\n",
       "      <td>Richmond, London</td>\n",
       "      <td>1415846818</td>\n",
       "      <td>2022-02-26</td>\n",
       "      <td>Home &amp; Garden</td>\n",
       "      <td>Dining, Living Room Furniture</td>\n",
       "      <td>Coffee table</td>\n",
       "      <td>None</td>\n",
       "    </tr>\n",
       "  </tbody>\n",
       "</table>\n",
       "<p>200 rows × 11 columns</p>\n",
       "</div>"
      ],
      "text/plain": [
       "                                       id  \\\n",
       "0    ac2140ae-f0d5-4fe7-ac08-df0f109fd734   \n",
       "1    243809c0-9cfc-4486-ad12-3b7a16605ba9   \n",
       "2    1c58d3f9-8b93-47ea-9415-204fcc2a22e6   \n",
       "3    860673f1-57f6-47ba-8d2f-13f9e05b8f9a   \n",
       "4    59948726-29be-4b35-ade5-bb2fd7331856   \n",
       "..                                    ...   \n",
       "195  c374f5ed-0f8e-4cbd-8d08-384d3b500351   \n",
       "196  b62d8acb-a674-4892-970a-87b5c0db5f0f   \n",
       "197  21ce5b1c-3d1f-4e8d-b23f-0d61079712d9   \n",
       "198  1910df44-c471-4552-a87c-de6a4415fc01   \n",
       "199  3e715599-560e-44c0-96d5-ddec87d03792   \n",
       "\n",
       "                                          product_name  \\\n",
       "0    Second-Hand Sofas, Couches & Armchairs for Sal...   \n",
       "1    Mirror wall art | in Wokingham, Berkshire | Gu...   \n",
       "2    Stainless Steel Food Steamer | in Inverness, H...   \n",
       "3    Sun loungers | in Skegness, Lincolnshire | Gum...   \n",
       "4    Coffee side table from Ammunition ammo box hai...   \n",
       "..                                                 ...   \n",
       "195  Pair of Stag Minstrel Bedside Drawers / Bedsid...   \n",
       "196  Other Bedroom Furniture for Sale in Bournemout...   \n",
       "197  Wall and Floor Tiles | in Sunderland, Tyne and...   \n",
       "198         Coffee table | in Sidcup, London | Gumtree   \n",
       "199  Raft Furniture Lifestyle TV Stand RRP £684 | i...   \n",
       "\n",
       "                                   product_description    price  \\\n",
       "0                                                  N/A      N/A   \n",
       "1    Mirror wall art. Posted by Nisha in Dining, Li...    £5.00   \n",
       "2    Morphy Richard’s (model no 48755)Stainless ste...   £20.00   \n",
       "3    I have 2 of these - collection only as I don’t...   £20.00   \n",
       "4    Great reclaimed army ammunition box used as co...  £115.00   \n",
       "..                                                 ...      ...   \n",
       "195  A pair of Black Stag Minstrel bedside tables w...  £125.00   \n",
       "196                                                N/A      N/A   \n",
       "197  12 boxes x 20 tiles \\r6 boxes matching floor t...  £100.00   \n",
       "198  Solid very heavy coffee table with draw. Colle...  £120.00   \n",
       "199  Raft Furniture Lifestyle TV Cabinet RRP £684. ...  £150.00   \n",
       "\n",
       "                      location     page_id create_time       category0  \\\n",
       "0                          N/A  1426592234  2022-02-26               N   \n",
       "1         Wokingham, Berkshire  1426704584  2022-02-26  Home & Garden    \n",
       "2          Inverness, Highland  1426704579  2022-02-26  Home & Garden    \n",
       "3       Skegness, Lincolnshire  1426704576  2022-02-26  Home & Garden    \n",
       "4           Radstock, Somerset  1426704575  2022-02-26  Home & Garden    \n",
       "..                         ...         ...         ...             ...   \n",
       "195    Solihull, West Midlands  1426702525  2022-02-26  Home & Garden    \n",
       "196                        N/A  1423737083  2022-02-26               N   \n",
       "197  Sunderland, Tyne and Wear  1425685056  2022-02-26  Home & Garden    \n",
       "198             Sidcup, London  1426409804  2022-02-26  Home & Garden    \n",
       "199           Richmond, London  1415846818  2022-02-26  Home & Garden    \n",
       "\n",
       "                           category1                      category2 category3  \n",
       "0                                  A                           None      None  \n",
       "1     Dining, Living Room Furniture     Mirrors, Clocks & Ornaments      None  \n",
       "2              Other Household Goods                           None      None  \n",
       "3                    Garden & Patio    Outdoor Settings & Furniture      None  \n",
       "4     Dining, Living Room Furniture                           Other      None  \n",
       "..                               ...                            ...       ...  \n",
       "195        Beds & Bedroom Furniture                  Bedside Tables      None  \n",
       "196                                A                           None      None  \n",
       "197            Other Household Goods                           None      None  \n",
       "198   Dining, Living Room Furniture                    Coffee table      None  \n",
       "199   Dining, Living Room Furniture                    Coffee table      None  \n",
       "\n",
       "[200 rows x 11 columns]"
      ]
     },
     "execution_count": 9,
     "metadata": {},
     "output_type": "execute_result"
    }
   ],
   "source": [
    "col = 'category'\n",
    "no_cols = 5\n",
    "character = '/'\n",
    "df[[col+str(i) for i in range(no_cols)]] = (df[col].str.split(character, expand=True))\n",
    "df2 = df.drop(col, axis=1)\n",
    "for i in range(no_cols):\n",
    "            if i > 2:\n",
    "                df3 = df2.drop(col+str(i), axis=1) \n",
    "df3.head(200)"
   ]
  },
  {
   "cell_type": "code",
   "execution_count": 42,
   "metadata": {},
   "outputs": [
    {
     "data": {
      "text/plain": [
       "count               7156\n",
       "unique                13\n",
       "top       Home & Garden \n",
       "freq                 834\n",
       "Name: category0, dtype: object"
      ]
     },
     "execution_count": 42,
     "metadata": {},
     "output_type": "execute_result"
    }
   ],
   "source": [
    "data['category0'].describe()"
   ]
  },
  {
   "cell_type": "code",
   "execution_count": 39,
   "metadata": {},
   "outputs": [
    {
     "data": {
      "text/html": [
       "<div>\n",
       "<style scoped>\n",
       "    .dataframe tbody tr th:only-of-type {\n",
       "        vertical-align: middle;\n",
       "    }\n",
       "\n",
       "    .dataframe tbody tr th {\n",
       "        vertical-align: top;\n",
       "    }\n",
       "\n",
       "    .dataframe thead th {\n",
       "        text-align: right;\n",
       "    }\n",
       "</style>\n",
       "<table border=\"1\" class=\"dataframe\">\n",
       "  <thead>\n",
       "    <tr style=\"text-align: right;\">\n",
       "      <th></th>\n",
       "      <th>id</th>\n",
       "      <th>product_name</th>\n",
       "      <th>category</th>\n",
       "      <th>product_description</th>\n",
       "      <th>price</th>\n",
       "      <th>location</th>\n",
       "      <th>page_id</th>\n",
       "      <th>create_time</th>\n",
       "      <th>category0</th>\n",
       "      <th>category1</th>\n",
       "      <th>category2</th>\n",
       "      <th>category3</th>\n",
       "      <th>category4</th>\n",
       "    </tr>\n",
       "  </thead>\n",
       "  <tbody>\n",
       "    <tr>\n",
       "      <th>1</th>\n",
       "      <td>243809c0-9cfc-4486-ad12-3b7a16605ba9</td>\n",
       "      <td>Mirror wall art | in Wokingham, Berkshire | Gu...</td>\n",
       "      <td>Home &amp; Garden / Dining, Living Room Furniture ...</td>\n",
       "      <td>Mirror wall art. Posted by Nisha in Dining, Li...</td>\n",
       "      <td>£5.00</td>\n",
       "      <td>Wokingham, Berkshire</td>\n",
       "      <td>1426704584</td>\n",
       "      <td>2022-02-26</td>\n",
       "      <td>Home &amp; Garden</td>\n",
       "      <td>Dining, Living Room Furniture</td>\n",
       "      <td>Mirrors, Clocks &amp; Ornaments</td>\n",
       "      <td>None</td>\n",
       "      <td>None</td>\n",
       "    </tr>\n",
       "    <tr>\n",
       "      <th>2</th>\n",
       "      <td>1c58d3f9-8b93-47ea-9415-204fcc2a22e6</td>\n",
       "      <td>Stainless Steel Food Steamer | in Inverness, H...</td>\n",
       "      <td>Home &amp; Garden / Other Household Goods</td>\n",
       "      <td>Morphy Richard’s (model no 48755)Stainless ste...</td>\n",
       "      <td>£20.00</td>\n",
       "      <td>Inverness, Highland</td>\n",
       "      <td>1426704579</td>\n",
       "      <td>2022-02-26</td>\n",
       "      <td>Home &amp; Garden</td>\n",
       "      <td>Other Household Goods</td>\n",
       "      <td>None</td>\n",
       "      <td>None</td>\n",
       "      <td>None</td>\n",
       "    </tr>\n",
       "    <tr>\n",
       "      <th>3</th>\n",
       "      <td>860673f1-57f6-47ba-8d2f-13f9e05b8f9a</td>\n",
       "      <td>Sun loungers | in Skegness, Lincolnshire | Gum...</td>\n",
       "      <td>Home &amp; Garden / Garden &amp; Patio / Outdoor Setti...</td>\n",
       "      <td>I have 2 of these - collection only as I don’t...</td>\n",
       "      <td>£20.00</td>\n",
       "      <td>Skegness, Lincolnshire</td>\n",
       "      <td>1426704576</td>\n",
       "      <td>2022-02-26</td>\n",
       "      <td>Home &amp; Garden</td>\n",
       "      <td>Garden &amp; Patio</td>\n",
       "      <td>Outdoor Settings &amp; Furniture</td>\n",
       "      <td>None</td>\n",
       "      <td>None</td>\n",
       "    </tr>\n",
       "    <tr>\n",
       "      <th>4</th>\n",
       "      <td>59948726-29be-4b35-ade5-bb2fd7331856</td>\n",
       "      <td>Coffee side table from Ammunition ammo box hai...</td>\n",
       "      <td>Home &amp; Garden / Dining, Living Room Furniture ...</td>\n",
       "      <td>Great reclaimed army ammunition box used as co...</td>\n",
       "      <td>£115.00</td>\n",
       "      <td>Radstock, Somerset</td>\n",
       "      <td>1426704575</td>\n",
       "      <td>2022-02-26</td>\n",
       "      <td>Home &amp; Garden</td>\n",
       "      <td>Dining, Living Room Furniture</td>\n",
       "      <td>Other</td>\n",
       "      <td>None</td>\n",
       "      <td>None</td>\n",
       "    </tr>\n",
       "    <tr>\n",
       "      <th>5</th>\n",
       "      <td>16dbc860-696e-4cda-93f6-4dd4926573fb</td>\n",
       "      <td>Modern Shannon Sofa for sale at low cost | in ...</td>\n",
       "      <td>Home &amp; Garden / Dining, Living Room Furniture ...</td>\n",
       "      <td>New Design Shannon Corner sofa  5 Seater Avail...</td>\n",
       "      <td>£450.00</td>\n",
       "      <td>Delph, Manchester</td>\n",
       "      <td>1426704570</td>\n",
       "      <td>2022-02-26</td>\n",
       "      <td>Home &amp; Garden</td>\n",
       "      <td>Dining, Living Room Furniture</td>\n",
       "      <td>Sofas, Armchairs &amp; Suites</td>\n",
       "      <td>Private</td>\n",
       "      <td>None</td>\n",
       "    </tr>\n",
       "  </tbody>\n",
       "</table>\n",
       "</div>"
      ],
      "text/plain": [
       "                                     id  \\\n",
       "1  243809c0-9cfc-4486-ad12-3b7a16605ba9   \n",
       "2  1c58d3f9-8b93-47ea-9415-204fcc2a22e6   \n",
       "3  860673f1-57f6-47ba-8d2f-13f9e05b8f9a   \n",
       "4  59948726-29be-4b35-ade5-bb2fd7331856   \n",
       "5  16dbc860-696e-4cda-93f6-4dd4926573fb   \n",
       "\n",
       "                                        product_name  \\\n",
       "1  Mirror wall art | in Wokingham, Berkshire | Gu...   \n",
       "2  Stainless Steel Food Steamer | in Inverness, H...   \n",
       "3  Sun loungers | in Skegness, Lincolnshire | Gum...   \n",
       "4  Coffee side table from Ammunition ammo box hai...   \n",
       "5  Modern Shannon Sofa for sale at low cost | in ...   \n",
       "\n",
       "                                            category  \\\n",
       "1  Home & Garden / Dining, Living Room Furniture ...   \n",
       "2              Home & Garden / Other Household Goods   \n",
       "3  Home & Garden / Garden & Patio / Outdoor Setti...   \n",
       "4  Home & Garden / Dining, Living Room Furniture ...   \n",
       "5  Home & Garden / Dining, Living Room Furniture ...   \n",
       "\n",
       "                                 product_description    price  \\\n",
       "1  Mirror wall art. Posted by Nisha in Dining, Li...    £5.00   \n",
       "2  Morphy Richard’s (model no 48755)Stainless ste...   £20.00   \n",
       "3  I have 2 of these - collection only as I don’t...   £20.00   \n",
       "4  Great reclaimed army ammunition box used as co...  £115.00   \n",
       "5  New Design Shannon Corner sofa  5 Seater Avail...  £450.00   \n",
       "\n",
       "                 location     page_id create_time       category0  \\\n",
       "1    Wokingham, Berkshire  1426704584  2022-02-26  Home & Garden    \n",
       "2     Inverness, Highland  1426704579  2022-02-26  Home & Garden    \n",
       "3  Skegness, Lincolnshire  1426704576  2022-02-26  Home & Garden    \n",
       "4      Radstock, Somerset  1426704575  2022-02-26  Home & Garden    \n",
       "5       Delph, Manchester  1426704570  2022-02-26  Home & Garden    \n",
       "\n",
       "                         category1                      category2 category3  \\\n",
       "1   Dining, Living Room Furniture     Mirrors, Clocks & Ornaments      None   \n",
       "2            Other Household Goods                           None      None   \n",
       "3                  Garden & Patio    Outdoor Settings & Furniture      None   \n",
       "4   Dining, Living Room Furniture                           Other      None   \n",
       "5   Dining, Living Room Furniture      Sofas, Armchairs & Suites    Private   \n",
       "\n",
       "  category4  \n",
       "1      None  \n",
       "2      None  \n",
       "3      None  \n",
       "4      None  \n",
       "5      None  "
      ]
     },
     "execution_count": 39,
     "metadata": {},
     "output_type": "execute_result"
    }
   ],
   "source": [
    "data.head()"
   ]
  },
  {
   "cell_type": "code",
   "execution_count": 18,
   "metadata": {},
   "outputs": [
    {
     "ename": "ValueError",
     "evalue": "Columns must be same length as key",
     "output_type": "error",
     "traceback": [
      "\u001b[0;31m---------------------------------------------------------------------------\u001b[0m",
      "\u001b[0;31mValueError\u001b[0m                                Traceback (most recent call last)",
      "\u001b[1;32m/home/abdul/Desktop/scratch/ML_eng/clean_tabular.ipynb Cell 38'\u001b[0m in \u001b[0;36m<cell line: 14>\u001b[0;34m()\u001b[0m\n\u001b[1;32m     <a href='vscode-notebook-cell:/home/abdul/Desktop/scratch/ML_eng/clean_tabular.ipynb#ch0000037?line=10'>11</a>\u001b[0m             \u001b[39mif\u001b[39;00m i \u001b[39m>\u001b[39m \u001b[39m2\u001b[39m:\n\u001b[1;32m     <a href='vscode-notebook-cell:/home/abdul/Desktop/scratch/ML_eng/clean_tabular.ipynb#ch0000037?line=11'>12</a>\u001b[0m                 df \u001b[39m=\u001b[39m df\u001b[39m.\u001b[39mdrop(col\u001b[39m+\u001b[39m\u001b[39mstr\u001b[39m(i), axis\u001b[39m=\u001b[39m\u001b[39m1\u001b[39m) \n\u001b[0;32m---> <a href='vscode-notebook-cell:/home/abdul/Desktop/scratch/ML_eng/clean_tabular.ipynb#ch0000037?line=13'>14</a>\u001b[0m split_heirarchies(\u001b[39m'\u001b[39;49m\u001b[39mcategory\u001b[39;49m\u001b[39m'\u001b[39;49m, \u001b[39m'\u001b[39;49m\u001b[39m/\u001b[39;49m\u001b[39m'\u001b[39;49m, \u001b[39m400\u001b[39;49m, df)\n",
      "\u001b[1;32m/home/abdul/Desktop/scratch/ML_eng/clean_tabular.ipynb Cell 38'\u001b[0m in \u001b[0;36msplit_heirarchies\u001b[0;34m(col, character, no_cols, df)\u001b[0m\n\u001b[1;32m      <a href='vscode-notebook-cell:/home/abdul/Desktop/scratch/ML_eng/clean_tabular.ipynb#ch0000037?line=0'>1</a>\u001b[0m \u001b[39mdef\u001b[39;00m \u001b[39msplit_heirarchies\u001b[39m(col: \u001b[39mstr\u001b[39m, character: \u001b[39mstr\u001b[39m, no_cols: \u001b[39mint\u001b[39m, df):\n\u001b[1;32m      <a href='vscode-notebook-cell:/home/abdul/Desktop/scratch/ML_eng/clean_tabular.ipynb#ch0000037?line=1'>2</a>\u001b[0m     \u001b[39m\"\"\"Takes in a column name and splits data to columns based on sep. char.\u001b[39;00m\n\u001b[1;32m      <a href='vscode-notebook-cell:/home/abdul/Desktop/scratch/ML_eng/clean_tabular.ipynb#ch0000037?line=2'>3</a>\u001b[0m \u001b[39m    Args:\u001b[39;00m\n\u001b[1;32m      <a href='vscode-notebook-cell:/home/abdul/Desktop/scratch/ML_eng/clean_tabular.ipynb#ch0000037?line=3'>4</a>\u001b[0m \u001b[39m    col (str): _description_\u001b[39;00m\n\u001b[1;32m      <a href='vscode-notebook-cell:/home/abdul/Desktop/scratch/ML_eng/clean_tabular.ipynb#ch0000037?line=4'>5</a>\u001b[0m \u001b[39m    character (str): _description_\u001b[39;00m\n\u001b[1;32m      <a href='vscode-notebook-cell:/home/abdul/Desktop/scratch/ML_eng/clean_tabular.ipynb#ch0000037?line=5'>6</a>\u001b[0m \u001b[39m    no_cols (int): _description_ \"\"\"\u001b[39;00m\n\u001b[0;32m----> <a href='vscode-notebook-cell:/home/abdul/Desktop/scratch/ML_eng/clean_tabular.ipynb#ch0000037?line=6'>7</a>\u001b[0m     df[[col\u001b[39m+\u001b[39m\u001b[39mstr\u001b[39m(i) \u001b[39mfor\u001b[39;00m i \u001b[39min\u001b[39;00m \u001b[39mrange\u001b[39m(no_cols)]] \u001b[39m=\u001b[39m (df[col]\u001b[39m.\u001b[39mstr\u001b[39m.\u001b[39msplit(character, expand\u001b[39m=\u001b[39m\u001b[39mTrue\u001b[39;00m))\n\u001b[1;32m      <a href='vscode-notebook-cell:/home/abdul/Desktop/scratch/ML_eng/clean_tabular.ipynb#ch0000037?line=7'>8</a>\u001b[0m     df \u001b[39m=\u001b[39m df\u001b[39m.\u001b[39mdrop(col, axis\u001b[39m=\u001b[39m\u001b[39m1\u001b[39m)\n\u001b[1;32m      <a href='vscode-notebook-cell:/home/abdul/Desktop/scratch/ML_eng/clean_tabular.ipynb#ch0000037?line=8'>9</a>\u001b[0m     \u001b[39mif\u001b[39;00m col \u001b[39m==\u001b[39m \u001b[39m'\u001b[39m\u001b[39mcategory\u001b[39m\u001b[39m'\u001b[39m:\n",
      "File \u001b[0;32m~/miniconda3/envs/mle_env/lib/python3.9/site-packages/pandas/core/frame.py:3643\u001b[0m, in \u001b[0;36mDataFrame.__setitem__\u001b[0;34m(self, key, value)\u001b[0m\n\u001b[1;32m   <a href='file:///home/abdul/miniconda3/envs/mle_env/lib/python3.9/site-packages/pandas/core/frame.py?line=3640'>3641</a>\u001b[0m     \u001b[39mself\u001b[39m\u001b[39m.\u001b[39m_setitem_frame(key, value)\n\u001b[1;32m   <a href='file:///home/abdul/miniconda3/envs/mle_env/lib/python3.9/site-packages/pandas/core/frame.py?line=3641'>3642</a>\u001b[0m \u001b[39melif\u001b[39;00m \u001b[39misinstance\u001b[39m(key, (Series, np\u001b[39m.\u001b[39mndarray, \u001b[39mlist\u001b[39m, Index)):\n\u001b[0;32m-> <a href='file:///home/abdul/miniconda3/envs/mle_env/lib/python3.9/site-packages/pandas/core/frame.py?line=3642'>3643</a>\u001b[0m     \u001b[39mself\u001b[39;49m\u001b[39m.\u001b[39;49m_setitem_array(key, value)\n\u001b[1;32m   <a href='file:///home/abdul/miniconda3/envs/mle_env/lib/python3.9/site-packages/pandas/core/frame.py?line=3643'>3644</a>\u001b[0m \u001b[39melif\u001b[39;00m \u001b[39misinstance\u001b[39m(value, DataFrame):\n\u001b[1;32m   <a href='file:///home/abdul/miniconda3/envs/mle_env/lib/python3.9/site-packages/pandas/core/frame.py?line=3644'>3645</a>\u001b[0m     \u001b[39mself\u001b[39m\u001b[39m.\u001b[39m_set_item_frame_value(key, value)\n",
      "File \u001b[0;32m~/miniconda3/envs/mle_env/lib/python3.9/site-packages/pandas/core/frame.py:3685\u001b[0m, in \u001b[0;36mDataFrame._setitem_array\u001b[0;34m(self, key, value)\u001b[0m\n\u001b[1;32m   <a href='file:///home/abdul/miniconda3/envs/mle_env/lib/python3.9/site-packages/pandas/core/frame.py?line=3679'>3680</a>\u001b[0m \u001b[39melse\u001b[39;00m:\n\u001b[1;32m   <a href='file:///home/abdul/miniconda3/envs/mle_env/lib/python3.9/site-packages/pandas/core/frame.py?line=3680'>3681</a>\u001b[0m     \u001b[39m# Note: unlike self.iloc[:, indexer] = value, this will\u001b[39;00m\n\u001b[1;32m   <a href='file:///home/abdul/miniconda3/envs/mle_env/lib/python3.9/site-packages/pandas/core/frame.py?line=3681'>3682</a>\u001b[0m     \u001b[39m#  never try to overwrite values inplace\u001b[39;00m\n\u001b[1;32m   <a href='file:///home/abdul/miniconda3/envs/mle_env/lib/python3.9/site-packages/pandas/core/frame.py?line=3683'>3684</a>\u001b[0m     \u001b[39mif\u001b[39;00m \u001b[39misinstance\u001b[39m(value, DataFrame):\n\u001b[0;32m-> <a href='file:///home/abdul/miniconda3/envs/mle_env/lib/python3.9/site-packages/pandas/core/frame.py?line=3684'>3685</a>\u001b[0m         check_key_length(\u001b[39mself\u001b[39;49m\u001b[39m.\u001b[39;49mcolumns, key, value)\n\u001b[1;32m   <a href='file:///home/abdul/miniconda3/envs/mle_env/lib/python3.9/site-packages/pandas/core/frame.py?line=3685'>3686</a>\u001b[0m         \u001b[39mfor\u001b[39;00m k1, k2 \u001b[39min\u001b[39;00m \u001b[39mzip\u001b[39m(key, value\u001b[39m.\u001b[39mcolumns):\n\u001b[1;32m   <a href='file:///home/abdul/miniconda3/envs/mle_env/lib/python3.9/site-packages/pandas/core/frame.py?line=3686'>3687</a>\u001b[0m             \u001b[39mself\u001b[39m[k1] \u001b[39m=\u001b[39m value[k2]\n",
      "File \u001b[0;32m~/miniconda3/envs/mle_env/lib/python3.9/site-packages/pandas/core/indexers/utils.py:428\u001b[0m, in \u001b[0;36mcheck_key_length\u001b[0;34m(columns, key, value)\u001b[0m\n\u001b[1;32m    <a href='file:///home/abdul/miniconda3/envs/mle_env/lib/python3.9/site-packages/pandas/core/indexers/utils.py?line=425'>426</a>\u001b[0m \u001b[39mif\u001b[39;00m columns\u001b[39m.\u001b[39mis_unique:\n\u001b[1;32m    <a href='file:///home/abdul/miniconda3/envs/mle_env/lib/python3.9/site-packages/pandas/core/indexers/utils.py?line=426'>427</a>\u001b[0m     \u001b[39mif\u001b[39;00m \u001b[39mlen\u001b[39m(value\u001b[39m.\u001b[39mcolumns) \u001b[39m!=\u001b[39m \u001b[39mlen\u001b[39m(key):\n\u001b[0;32m--> <a href='file:///home/abdul/miniconda3/envs/mle_env/lib/python3.9/site-packages/pandas/core/indexers/utils.py?line=427'>428</a>\u001b[0m         \u001b[39mraise\u001b[39;00m \u001b[39mValueError\u001b[39;00m(\u001b[39m\"\u001b[39m\u001b[39mColumns must be same length as key\u001b[39m\u001b[39m\"\u001b[39m)\n\u001b[1;32m    <a href='file:///home/abdul/miniconda3/envs/mle_env/lib/python3.9/site-packages/pandas/core/indexers/utils.py?line=428'>429</a>\u001b[0m \u001b[39melse\u001b[39;00m:\n\u001b[1;32m    <a href='file:///home/abdul/miniconda3/envs/mle_env/lib/python3.9/site-packages/pandas/core/indexers/utils.py?line=429'>430</a>\u001b[0m     \u001b[39m# Missing keys in columns are represented as -1\u001b[39;00m\n\u001b[1;32m    <a href='file:///home/abdul/miniconda3/envs/mle_env/lib/python3.9/site-packages/pandas/core/indexers/utils.py?line=430'>431</a>\u001b[0m     \u001b[39mif\u001b[39;00m \u001b[39mlen\u001b[39m(columns\u001b[39m.\u001b[39mget_indexer_non_unique(key)[\u001b[39m0\u001b[39m]) \u001b[39m!=\u001b[39m \u001b[39mlen\u001b[39m(value\u001b[39m.\u001b[39mcolumns):\n",
      "\u001b[0;31mValueError\u001b[0m: Columns must be same length as key"
     ]
    }
   ],
   "source": [
    "def split_heirarchies(col: str, character: str, no_cols: int, df):\n",
    "    \"\"\"Takes in a column name and splits data to columns based on sep. char.\n",
    "    Args:\n",
    "    col (str): _description_\n",
    "    character (str): _description_\n",
    "    no_cols (int): _description_ \"\"\"\n",
    "    df[[col+str(i) for i in range(no_cols)]] = (df[col].str.split(character, expand=True))\n",
    "    df = df.drop(col, axis=1)\n",
    "    if col == 'category':\n",
    "        for i in range(no_cols):\n",
    "            if i > 2:\n",
    "                df = df.drop(col+str(i), axis=1) \n",
    "\n",
    "split_heirarchies('category', '/', 400, df)"
   ]
  }
 ],
 "metadata": {
  "interpreter": {
   "hash": "042f686cbed8bf79f507d2bb9c688228dc6d862680fe8a622e789c43c15beb4f"
  },
  "kernelspec": {
   "display_name": "Python 3.9.12 ('mle_env')",
   "language": "python",
   "name": "python3"
  },
  "language_info": {
   "codemirror_mode": {
    "name": "ipython",
    "version": 3
   },
   "file_extension": ".py",
   "mimetype": "text/x-python",
   "name": "python",
   "nbconvert_exporter": "python",
   "pygments_lexer": "ipython3",
   "version": "3.9.7"
  },
  "orig_nbformat": 4
 },
 "nbformat": 4,
 "nbformat_minor": 2
}
